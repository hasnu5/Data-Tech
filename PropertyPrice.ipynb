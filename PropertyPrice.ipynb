{
 "cells": [
  {
   "cell_type": "code",
   "execution_count": 74,
   "metadata": {},
   "outputs": [],
   "source": [
    "import pandas as pd\n",
    "import numpy as np\n",
    "from mlxtend.feature_selection import SequentialFeatureSelector as sfs\n",
    "from matplotlib import pyplot as plt\n",
    "from sklearn.ensemble import GradientBoostingRegressor\n",
    "from sklearn.preprocessing import MinMaxScaler\n",
    "%matplotlib inline\n",
    "import matplotlib\n",
    "from sklearn import preprocessing\n",
    "from sklearn import utils\n",
    "import statsmodels.api as sm\n",
    "from sklearn.ensemble import AdaBoostRegressor\n",
    "from sklearn.tree import DecisionTreeRegressor\n",
    "from sklearn.ensemble import ExtraTreesRegressor\n",
    "from sklearn.ensemble import RandomForestRegressor\n",
    "matplotlib.rcParams[\"figure.figsize\"] = (20,10)\n",
    "from sklearn.ensemble import AdaBoostRegressor"
   ]
  },
  {
   "cell_type": "code",
   "execution_count": 80,
   "metadata": {},
   "outputs": [],
   "source": [
    "df1 = pd.read_csv(\"training.csv\")\n",
    "# df1.head()"
   ]
  },
  {
   "cell_type": "code",
   "execution_count": 81,
   "metadata": {},
   "outputs": [],
   "source": [
    "test1 = pd.read_csv(\"testing.csv\")"
   ]
  },
  {
   "cell_type": "code",
   "execution_count": 5,
   "metadata": {},
   "outputs": [
    {
     "data": {
      "text/plain": [
       "(100000, 108)"
      ]
     },
     "execution_count": 5,
     "metadata": {},
     "output_type": "execute_result"
    }
   ],
   "source": [
    "df1.shape"
   ]
  },
  {
   "cell_type": "code",
   "execution_count": 6,
   "metadata": {},
   "outputs": [
    {
     "data": {
      "text/plain": [
       "(30000, 107)"
      ]
     },
     "execution_count": 6,
     "metadata": {},
     "output_type": "execute_result"
    }
   ],
   "source": [
    "test1.shape"
   ]
  },
  {
   "cell_type": "code",
   "execution_count": 4,
   "metadata": {},
   "outputs": [],
   "source": [
    "from sklearn.linear_model import LinearRegression\n",
    "clf = LinearRegression()"
   ]
  },
  {
   "cell_type": "code",
   "execution_count": 5,
   "metadata": {},
   "outputs": [],
   "source": [
    "from sklearn.ensemble import RandomForestRegressor\n",
    "rfg = RandomForestRegressor()"
   ]
  },
  {
   "cell_type": "code",
   "execution_count": 8,
   "metadata": {},
   "outputs": [
    {
     "data": {
      "text/plain": [
       "108"
      ]
     },
     "execution_count": 8,
     "metadata": {},
     "output_type": "execute_result"
    }
   ],
   "source": [
    "len(df1.sub_area.unique())"
   ]
  },
  {
   "cell_type": "markdown",
   "metadata": {},
   "source": [
    "# Other data pre processing"
   ]
  },
  {
   "cell_type": "code",
   "execution_count": 9,
   "metadata": {},
   "outputs": [
    {
     "data": {
      "text/plain": [
       "sub_area\n",
       "Novo-Peredelkino        1203\n",
       "Bogorodskoe             1169\n",
       "Vostochnoe Izmajlovo    1158\n",
       "Lianozovo               1156\n",
       "Birjulevo Vostochnoe    1152\n",
       "                        ... \n",
       "Prospekt Vernadskogo     263\n",
       "Krasnosel'skoe           245\n",
       "Troickij okrug           240\n",
       "Otradnoe                 108\n",
       "Obruchevskoe              36\n",
       "Name: sub_area, Length: 108, dtype: int64"
      ]
     },
     "execution_count": 9,
     "metadata": {},
     "output_type": "execute_result"
    }
   ],
   "source": [
    "df1.sub_area = df1.sub_area.apply(lambda x: x.strip())\n",
    "sub_area_stats = df1.groupby('sub_area')['sub_area'].agg('count').sort_values(ascending=False)\n",
    "sub_area_stats"
   ]
  },
  {
   "cell_type": "code",
   "execution_count": 10,
   "metadata": {},
   "outputs": [
    {
     "data": {
      "text/plain": [
       "32"
      ]
     },
     "execution_count": 10,
     "metadata": {},
     "output_type": "execute_result"
    }
   ],
   "source": [
    "len(sub_area_stats[sub_area_stats<=850])"
   ]
  },
  {
   "cell_type": "code",
   "execution_count": 11,
   "metadata": {},
   "outputs": [
    {
     "data": {
      "text/plain": [
       "sub_area\n",
       "Dorogomilovo                847\n",
       "Ramenki                     844\n",
       "Nekrasovka                  810\n",
       "Cheremushki                 804\n",
       "Danilovskoe                 797\n",
       "Severnoe Medvedkovo         796\n",
       "Izmajlovo                   795\n",
       "Timirjazevskoe              787\n",
       "Losinoostrovskoe            779\n",
       "Akademicheskoe              777\n",
       "Tekstil'shhiki              760\n",
       "Donskoe                     754\n",
       "Filevskij Park              745\n",
       "Perovo                      729\n",
       "Jaroslavskoe                690\n",
       "Vostochnoe Degunino         680\n",
       "Poselenie Pervomajskoe      648\n",
       "Taganskoe                   635\n",
       "Poselenie Filimonkovskoe    627\n",
       "Vojkovskoe                  577\n",
       "Beskudnikovskoe             500\n",
       "Poselenie Sosenskoe         491\n",
       "Novokosino                  487\n",
       "Chertanovo Severnoe         473\n",
       "Kon'kovo                    444\n",
       "Mar'ina Roshha              418\n",
       "Begovoe                     373\n",
       "Prospekt Vernadskogo        263\n",
       "Krasnosel'skoe              245\n",
       "Troickij okrug              240\n",
       "Otradnoe                    108\n",
       "Obruchevskoe                 36\n",
       "Name: sub_area, dtype: int64"
      ]
     },
     "execution_count": 11,
     "metadata": {},
     "output_type": "execute_result"
    }
   ],
   "source": [
    "sub_area_stats_less_than_850 = sub_area_stats[sub_area_stats<=850]\n",
    "sub_area_stats_less_than_850"
   ]
  },
  {
   "cell_type": "code",
   "execution_count": 12,
   "metadata": {},
   "outputs": [],
   "source": [
    "train2 = df1.copy()\n",
    "train2.sub_area = train2.sub_area.apply(lambda x: 'other' if x in sub_area_stats_less_than_850 else x)"
   ]
  },
  {
   "cell_type": "code",
   "execution_count": 13,
   "metadata": {},
   "outputs": [
    {
     "data": {
      "text/plain": [
       "(30000, 107)"
      ]
     },
     "execution_count": 13,
     "metadata": {},
     "output_type": "execute_result"
    }
   ],
   "source": [
    "test1.shape"
   ]
  },
  {
   "cell_type": "code",
   "execution_count": 14,
   "metadata": {},
   "outputs": [],
   "source": [
    "test2 = test1.copy()\n",
    "test2.sub_area = test2.sub_area.apply(lambda x: 'other' if x in sub_area_stats_less_than_850 else x)"
   ]
  },
  {
   "cell_type": "markdown",
   "metadata": {},
   "source": [
    "# One Hot Encoding"
   ]
  },
  {
   "cell_type": "code",
   "execution_count": 82,
   "metadata": {},
   "outputs": [],
   "source": [
    "categorical_cols=[\"product_type\",\"sub_area\",\"culture_objects_top_25\",\"thermal_power_plant_raion\",\"incineration_raion\",\"oil_chemistry_raion\",\"radiation_raion\",\"railroad_terminal_raion\",\"big_market_raion\",\"nuclear_reactor_raion\",\"detention_facility_raion\",\"water_1line\",\"big_road1_1line\",\"railroad_1line\",\"ecology\"]"
   ]
  },
  {
   "cell_type": "code",
   "execution_count": 83,
   "metadata": {},
   "outputs": [],
   "source": [
    "def onehot_encoding(multi_columns, datafile): \n",
    "    df_final = datafile\n",
    "    i = 0\n",
    "    for fields in multi_columns:\n",
    "\n",
    "        print(fields)\n",
    "        df1 = pd.get_dummies(datafile[fields], drop_first=True)\n",
    "\n",
    "        datafile.drop([fields], axis=1, inplace=True)\n",
    "        if i == 0:\n",
    "            df_final = df1.copy()\n",
    "        else:\n",
    "\n",
    "            df_final = pd.concat([df_final, df1], axis=1)\n",
    "        i = i + 1\n",
    "\n",
    "    df_final = pd.concat([datafile, df_final], axis=1)\n",
    "\n",
    "    return df_final\n"
   ]
  },
  {
   "cell_type": "code",
   "execution_count": 84,
   "metadata": {},
   "outputs": [
    {
     "name": "stdout",
     "output_type": "stream",
     "text": [
      "product_type\n",
      "sub_area\n",
      "culture_objects_top_25\n",
      "thermal_power_plant_raion\n",
      "incineration_raion\n",
      "oil_chemistry_raion\n",
      "radiation_raion\n",
      "railroad_terminal_raion\n",
      "big_market_raion\n",
      "nuclear_reactor_raion\n",
      "detention_facility_raion\n",
      "water_1line\n",
      "big_road1_1line\n",
      "railroad_1line\n",
      "ecology\n"
     ]
    }
   ],
   "source": [
    "train3 = df1.copy()\n",
    "train3  = onehot_encoding(categorical_cols, train3)  #applying one hot encoding to the training file"
   ]
  },
  {
   "cell_type": "code",
   "execution_count": 85,
   "metadata": {},
   "outputs": [
    {
     "name": "stdout",
     "output_type": "stream",
     "text": [
      "product_type\n",
      "sub_area\n",
      "culture_objects_top_25\n",
      "thermal_power_plant_raion\n",
      "incineration_raion\n",
      "oil_chemistry_raion\n",
      "radiation_raion\n",
      "railroad_terminal_raion\n",
      "big_market_raion\n",
      "nuclear_reactor_raion\n",
      "detention_facility_raion\n",
      "water_1line\n",
      "big_road1_1line\n",
      "railroad_1line\n",
      "ecology\n"
     ]
    }
   ],
   "source": [
    "test3 = test1.copy()\n",
    "test3 = onehot_encoding(categorical_cols, test3)"
   ]
  },
  {
   "cell_type": "code",
   "execution_count": 86,
   "metadata": {},
   "outputs": [],
   "source": [
    "Y = train3['price_doc']\n",
    "train4 = train3.copy()\n",
    "train4.drop(columns=['ID'], inplace=True) #dropping the row id column as it has no use for training our model\n",
    "train4.drop(columns=['price_doc'], inplace=True)"
   ]
  },
  {
   "cell_type": "markdown",
   "metadata": {},
   "source": [
    "# Replacing null values with Mode/Mean"
   ]
  },
  {
   "cell_type": "code",
   "execution_count": 87,
   "metadata": {},
   "outputs": [],
   "source": [
    "nullCols = ['floor', 'preschool_quota', 'school_quota',\n",
    "       'raion_build_count_with_material_info', 'build_count_block',\n",
    "       'build_count_brick', 'build_count_monolith', 'build_count_panel',\n",
    "       'build_count_foam', 'build_count_before_1920', 'build_count_1946-1970',\n",
    "       'build_count_1971-1995', 'metro_min_walk', 'railroad_station_walk_km',\n",
    "       'ID_railroad_station_walk', 'cafe_sum_1000_min_price_avg',\n",
    "       'cafe_sum_1000_max_price_avg', 'cafe_avg_price_1000',\n",
    "       'cafe_sum_1500_min_price_avg', 'cafe_sum_1500_max_price_avg',\n",
    "       'cafe_avg_price_1500', 'cafe_sum_2000_min_price_avg',\n",
    "       'cafe_sum_2000_max_price_avg', 'cafe_avg_price_2000',\n",
    "       'cafe_sum_3000_min_price_avg', 'cafe_sum_3000_max_price_avg',\n",
    "       'cafe_avg_price_3000', 'prom_part_5000', 'cafe_sum_5000_min_price_avg',\n",
    "       'cafe_sum_5000_max_price_avg', 'cafe_avg_price_5000']"
   ]
  },
  {
   "cell_type": "code",
   "execution_count": 88,
   "metadata": {},
   "outputs": [],
   "source": [
    "def repWithMode(train,cols):\n",
    "    for i in cols:\n",
    "        x = train[i].mode()[0]\n",
    "        train[i].fillna(x, inplace = True)\n",
    "    return train        "
   ]
  },
  {
   "cell_type": "code",
   "execution_count": 89,
   "metadata": {},
   "outputs": [],
   "source": [
    "def repWithMean(train,cols):    \n",
    "    for i in cols:\n",
    "        x = train[i].mean()\n",
    "        train[i].fillna(x, inplace = True)\n",
    "    return train        "
   ]
  },
  {
   "cell_type": "code",
   "execution_count": 90,
   "metadata": {},
   "outputs": [],
   "source": [
    "train5 = train4.copy()\n",
    "train5 = repWithMode(train5,nullCols)\n",
    "test4 = test3.copy()\n",
    "test4 = repWithMode(test4,nullCols)"
   ]
  },
  {
   "cell_type": "code",
   "execution_count": 60,
   "metadata": {},
   "outputs": [],
   "source": [
    "train5 = train4.copy()\n",
    "train5 = repWithMean(train5,nullCols)\n",
    "test4 = test3.copy()\n",
    "test4 = repWithMean(test4,nullCols)"
   ]
  },
  {
   "cell_type": "code",
   "execution_count": 91,
   "metadata": {},
   "outputs": [],
   "source": [
    "test5 = test4.copy()\n",
    "test5.drop(columns=['ID'], inplace=True) #dropping the row id column as it has no use for training our model"
   ]
  },
  {
   "cell_type": "markdown",
   "metadata": {},
   "source": [
    "# Scaling"
   ]
  },
  {
   "cell_type": "code",
   "execution_count": 92,
   "metadata": {},
   "outputs": [],
   "source": [
    "from sklearn.preprocessing import StandardScaler\n",
    "from sklearn.preprocessing import MinMaxScaler"
   ]
  },
  {
   "cell_type": "code",
   "execution_count": 93,
   "metadata": {},
   "outputs": [],
   "source": [
    "sc_X = StandardScaler()\n",
    "train5 = sc_X.fit_transform(train5)\n",
    "test5 = sc_X.transform(test5)"
   ]
  },
  {
   "cell_type": "code",
   "execution_count": 101,
   "metadata": {},
   "outputs": [],
   "source": [
    "MinMax_X = MinMaxScaler()\n",
    "train5 = MinMax_X.fit_transform(train5)\n",
    "test5 = MinMax_X.transform(test5)"
   ]
  },
  {
   "cell_type": "markdown",
   "metadata": {},
   "source": [
    "# Rounding"
   ]
  },
  {
   "cell_type": "code",
   "execution_count": null,
   "metadata": {},
   "outputs": [],
   "source": [
    "train5['floor'] = np.round(train5['floor'])\n",
    "train5['mosque_count_5000'] = np.round(train5['mosque_count_5000'])\n",
    "\n",
    "test5['floor'] = np.round(test5['floor'])\n",
    "test5['mosque_count_5000'] = np.round(test5['mosque_count_5000'])"
   ]
  },
  {
   "cell_type": "code",
   "execution_count": null,
   "metadata": {},
   "outputs": [],
   "source": [
    "train5.drop([\"mosque_count_1000\"],axis=1,inplace=True)\n",
    "test5.drop([\"mosque_count_1000\"],axis=1,inplace=True)\n",
    "\n",
    "train5.drop([\"mosque_count_2000\"],axis=1,inplace=True)\n",
    "test5.drop([\"mosque_count_2000\"],axis=1,inplace=True)\n",
    "\n",
    "train5.drop([\"mosque_count_3000\"],axis=1,inplace=True)\n",
    "test5.drop([\"mosque_count_3000\"],axis=1,inplace=True)"
   ]
  },
  {
   "cell_type": "markdown",
   "metadata": {},
   "source": [
    "# Correlation Filter"
   ]
  },
  {
   "cell_type": "code",
   "execution_count": 102,
   "metadata": {},
   "outputs": [],
   "source": [
    "from sklearn import datasets"
   ]
  },
  {
   "cell_type": "code",
   "execution_count": 94,
   "metadata": {},
   "outputs": [
    {
     "name": "stdout",
     "output_type": "stream",
     "text": [
      "          0         1         2         3         4         5         6    \\\n",
      "0    1.000000  0.020234  0.015127  0.039973  0.076501  0.048374  0.070269   \n",
      "1    0.020234  1.000000  0.007551  0.097418  0.340936  0.817484  0.470750   \n",
      "2    0.015127  0.007551  1.000000  0.497019  0.247160  0.022571  0.272434   \n",
      "3    0.039973  0.097418  0.497019  1.000000  0.325450  0.103829  0.331650   \n",
      "4    0.076501  0.340936  0.247160  0.325450  1.000000  0.225292  0.825862   \n",
      "..        ...       ...       ...       ...       ...       ...       ...   \n",
      "210  0.019388  0.039331  0.071137  0.124280  0.132298  0.055020  0.095589   \n",
      "211  0.021356  0.159894  0.125270  0.139720  0.146653  0.184250  0.086552   \n",
      "212  0.015641  0.596877  0.286029  0.129887  0.255174  0.567177  0.217346   \n",
      "213  0.082541  0.140108  0.225218  0.103303  0.243847  0.124619  0.193805   \n",
      "214  0.070384  0.160520  0.024294  0.060523  0.086715  0.060883  0.005043   \n",
      "\n",
      "     7         8         9    ...       205       206       207       208  \\\n",
      "0    NaN  0.050212  0.000772  ...  0.029682  0.006766  0.037742  0.029479   \n",
      "1    NaN  0.409402  0.027331  ...  0.003264  0.072669  0.163895  0.057679   \n",
      "2    NaN  0.075771  0.172548  ...  0.067696  0.131426  0.007530  0.056885   \n",
      "3    NaN  0.035309  0.067212  ...  0.064372  0.204954  0.039986  0.045149   \n",
      "4    NaN  0.131302  0.172239  ...  0.144882  0.083920  0.046416  0.063313   \n",
      "..   ...       ...       ...  ...       ...       ...       ...       ...   \n",
      "210  NaN  0.036455  0.037575  ...  0.038665  0.039166  0.034602  0.043507   \n",
      "211  NaN  0.028200  0.073324  ...  0.108359  0.120248  0.103891  0.057531   \n",
      "212  NaN  0.361416  0.120461  ...  0.047328  0.103195  0.141626  0.113562   \n",
      "213  NaN  0.192984  0.028390  ...  0.202271  0.149008  0.053264  0.057730   \n",
      "214  NaN  0.012940  0.029904  ...  0.019421  0.004179  0.117971  0.007100   \n",
      "\n",
      "          209       210       211       212       213       214  \n",
      "0    0.023221  0.019388  0.021356  0.015641  0.082541  0.070384  \n",
      "1    0.008120  0.039331  0.159894  0.596877  0.140108  0.160520  \n",
      "2    0.026788  0.071137  0.125270  0.286029  0.225218  0.024294  \n",
      "3    0.017592  0.124280  0.139720  0.129887  0.103303  0.060523  \n",
      "4    0.043094  0.132298  0.146653  0.255174  0.243847  0.086715  \n",
      "..        ...       ...       ...       ...       ...       ...  \n",
      "210  0.034822  1.000000  0.054847  0.060312  0.013619  0.151925  \n",
      "211  0.025527  0.054847  1.000000  0.233071  0.393870  0.194143  \n",
      "212  0.036216  0.060312  0.233071  1.000000  0.338015  0.166611  \n",
      "213  0.060321  0.013619  0.393870  0.338015  1.000000  0.281559  \n",
      "214  0.013890  0.151925  0.194143  0.166611  0.281559  1.000000  \n",
      "\n",
      "[215 rows x 215 columns]\n"
     ]
    }
   ],
   "source": [
    "train6 = pd.DataFrame(train5)\n",
    "cor_matrix = train6.corr().abs()\n",
    "print(cor_matrix)"
   ]
  },
  {
   "cell_type": "code",
   "execution_count": 95,
   "metadata": {},
   "outputs": [
    {
     "name": "stderr",
     "output_type": "stream",
     "text": [
      "C:\\Users\\hasan\\AppData\\Local\\Temp\\ipykernel_17668\\1584072055.py:2: DeprecationWarning: `np.bool` is a deprecated alias for the builtin `bool`. To silence this warning, use `bool` by itself. Doing this will not modify any behavior and is safe. If you specifically wanted the numpy scalar type, use `np.bool_` here.\n",
      "Deprecated in NumPy 1.20; for more details and guidance: https://numpy.org/devdocs/release/1.20.0-notes.html#deprecations\n",
      "  upper = cor_matrix.where(np.triu(np.ones(cor_matrix.shape), k=1).astype(np.bool))\n"
     ]
    }
   ],
   "source": [
    "# Select upper triangle of correlation matrix\n",
    "upper = cor_matrix.where(np.triu(np.ones(cor_matrix.shape), k=1).astype(np.bool))"
   ]
  },
  {
   "cell_type": "code",
   "execution_count": 96,
   "metadata": {},
   "outputs": [
    {
     "name": "stdout",
     "output_type": "stream",
     "text": [
      "[54, 65, 71, 72, 79, 87, 88]\n"
     ]
    }
   ],
   "source": [
    "# Find features with correlation greater than 0.95\n",
    "to_drop = [column for column in upper.columns if any(upper[column] > 0.95)]\n",
    "print(to_drop)"
   ]
  },
  {
   "cell_type": "code",
   "execution_count": 108,
   "metadata": {},
   "outputs": [],
   "source": [
    "train7 = train6.copy()\n",
    "# Drop features \n",
    "train7.drop(to_drop, axis=1, inplace=True)"
   ]
  },
  {
   "cell_type": "code",
   "execution_count": 109,
   "metadata": {},
   "outputs": [],
   "source": [
    "test6 = pd.DataFrame(test5)\n",
    "test6.drop(to_drop, axis=1, inplace=True)"
   ]
  },
  {
   "cell_type": "markdown",
   "metadata": {},
   "source": [
    "# Adaboost Regressor"
   ]
  },
  {
   "cell_type": "code",
   "execution_count": 29,
   "metadata": {},
   "outputs": [],
   "source": [
    "DTR=DecisionTreeRegressor(max_depth=1)\n",
    "RegModel = AdaBoostRegressor(n_estimators=100,base_estimator=DTR ,learning_rate=1)"
   ]
  },
  {
   "cell_type": "code",
   "execution_count": 51,
   "metadata": {},
   "outputs": [],
   "source": [
    "AB=RegModel.fit(polytrain,Y)"
   ]
  },
  {
   "cell_type": "code",
   "execution_count": 52,
   "metadata": {},
   "outputs": [],
   "source": [
    "ABans=AB.predict(polytest)"
   ]
  },
  {
   "cell_type": "markdown",
   "metadata": {},
   "source": [
    "# Gradient Boosting Regressor"
   ]
  },
  {
   "cell_type": "code",
   "execution_count": 37,
   "metadata": {},
   "outputs": [],
   "source": [
    "GBR = GradientBoostingRegressor(alpha=0.9, criterion='friedman_mse', init=None,\n",
    "             learning_rate=1, loss='ls', max_depth=3, max_features=None,\n",
    "             max_leaf_nodes=None, min_impurity_decrease=0.0, min_samples_leaf=1,\n",
    "             min_samples_split=2, min_weight_fraction_leaf=0.0,\n",
    "             n_estimators=50, random_state=None,\n",
    "             subsample=1.0, verbose=2, warm_start=False)"
   ]
  },
  {
   "cell_type": "code",
   "execution_count": 44,
   "metadata": {},
   "outputs": [
    {
     "data": {
      "text/plain": [
       "(100000, 208)"
      ]
     },
     "execution_count": 44,
     "metadata": {},
     "output_type": "execute_result"
    }
   ],
   "source": [
    "train7.shape"
   ]
  },
  {
   "cell_type": "code",
   "execution_count": 38,
   "metadata": {},
   "outputs": [
    {
     "name": "stderr",
     "output_type": "stream",
     "text": [
      "C:\\Program Files\\Python310\\lib\\site-packages\\sklearn\\ensemble\\_gb.py:294: FutureWarning: The loss 'ls' was deprecated in v1.0 and will be removed in version 1.2. Use 'squared_error' which is equivalent.\n",
      "  warnings.warn(\n"
     ]
    },
    {
     "name": "stdout",
     "output_type": "stream",
     "text": [
      "      Iter       Train Loss   Remaining Time \n",
      "         1 11659312850638.6719            3.37m\n",
      "         2 10909554310458.5254            3.25m\n",
      "         3 10551171293414.8945            3.17m\n",
      "         4 10264775902414.2129            3.10m\n",
      "         5 10126869199542.5117            3.12m\n",
      "         6 10017245756007.7559            3.04m\n",
      "         7 9968217401323.0762            3.09m\n",
      "         8 9880676494908.0215            3.02m\n",
      "         9 9812097264862.2930            2.97m\n",
      "        10 9775471727768.7207            2.94m\n",
      "        11 9732990271599.9141            2.92m\n",
      "        12 9680977704539.1387            2.87m\n",
      "        13 9643838501789.2227            2.80m\n",
      "        14 9588026175874.1367            2.72m\n",
      "        15 9527524868897.5781            2.64m\n",
      "        16 9486176632138.4180            2.56m\n",
      "        17 9442184670561.2891            2.51m\n",
      "        18 9409323185998.6680            2.44m\n",
      "        19 9348266138315.3906            2.36m\n",
      "        20 9318700049951.5586            2.29m\n",
      "        21 9299523982237.7344            2.21m\n",
      "        22 9264755892608.8867            2.14m\n",
      "        23 9230576585999.7246            2.06m\n",
      "        24 9207049568772.1992            1.99m\n",
      "        25 9172159806796.0508            1.91m\n",
      "        26 9138702482617.4277            1.84m\n",
      "        27 9101896910332.0117            1.76m\n",
      "        28 9079411881159.6973            1.68m\n",
      "        29 9020343605584.9785            1.59m\n",
      "        30 8987616752371.3047            1.52m\n",
      "        31 8956895120258.3613            1.44m\n",
      "        32 8940725981611.9707            1.36m\n",
      "        33 8915395542148.8262            1.28m\n",
      "        34 8886573485770.1855            1.20m\n",
      "        35 8859263153018.9570            1.12m\n",
      "        36 8833180705476.0488            1.05m\n",
      "        37 8801055152860.5020           58.20s\n",
      "        38 8781088076145.1143           53.69s\n",
      "        39 8755784678628.7461           49.10s\n",
      "        40 8727950688192.6924           44.54s\n",
      "        41 8692892412619.4648           40.24s\n",
      "        42 8670710100322.1973           35.75s\n",
      "        43 8662843632918.7959           31.23s\n",
      "        44 8635623066644.8291           26.74s\n",
      "        45 8606075604002.7363           22.26s\n",
      "        46 8586291609419.4551           17.76s\n",
      "        47 8574582617396.4873           13.30s\n",
      "        48 8553232200905.5352            8.87s\n",
      "        49 8538693546599.7637            4.44s\n",
      "        50 8510331924756.1045            0.00s\n"
     ]
    },
    {
     "data": {
      "text/html": [
       "<style>#sk-container-id-1 {color: black;background-color: white;}#sk-container-id-1 pre{padding: 0;}#sk-container-id-1 div.sk-toggleable {background-color: white;}#sk-container-id-1 label.sk-toggleable__label {cursor: pointer;display: block;width: 100%;margin-bottom: 0;padding: 0.3em;box-sizing: border-box;text-align: center;}#sk-container-id-1 label.sk-toggleable__label-arrow:before {content: \"▸\";float: left;margin-right: 0.25em;color: #696969;}#sk-container-id-1 label.sk-toggleable__label-arrow:hover:before {color: black;}#sk-container-id-1 div.sk-estimator:hover label.sk-toggleable__label-arrow:before {color: black;}#sk-container-id-1 div.sk-toggleable__content {max-height: 0;max-width: 0;overflow: hidden;text-align: left;background-color: #f0f8ff;}#sk-container-id-1 div.sk-toggleable__content pre {margin: 0.2em;color: black;border-radius: 0.25em;background-color: #f0f8ff;}#sk-container-id-1 input.sk-toggleable__control:checked~div.sk-toggleable__content {max-height: 200px;max-width: 100%;overflow: auto;}#sk-container-id-1 input.sk-toggleable__control:checked~label.sk-toggleable__label-arrow:before {content: \"▾\";}#sk-container-id-1 div.sk-estimator input.sk-toggleable__control:checked~label.sk-toggleable__label {background-color: #d4ebff;}#sk-container-id-1 div.sk-label input.sk-toggleable__control:checked~label.sk-toggleable__label {background-color: #d4ebff;}#sk-container-id-1 input.sk-hidden--visually {border: 0;clip: rect(1px 1px 1px 1px);clip: rect(1px, 1px, 1px, 1px);height: 1px;margin: -1px;overflow: hidden;padding: 0;position: absolute;width: 1px;}#sk-container-id-1 div.sk-estimator {font-family: monospace;background-color: #f0f8ff;border: 1px dotted black;border-radius: 0.25em;box-sizing: border-box;margin-bottom: 0.5em;}#sk-container-id-1 div.sk-estimator:hover {background-color: #d4ebff;}#sk-container-id-1 div.sk-parallel-item::after {content: \"\";width: 100%;border-bottom: 1px solid gray;flex-grow: 1;}#sk-container-id-1 div.sk-label:hover label.sk-toggleable__label {background-color: #d4ebff;}#sk-container-id-1 div.sk-serial::before {content: \"\";position: absolute;border-left: 1px solid gray;box-sizing: border-box;top: 0;bottom: 0;left: 50%;z-index: 0;}#sk-container-id-1 div.sk-serial {display: flex;flex-direction: column;align-items: center;background-color: white;padding-right: 0.2em;padding-left: 0.2em;position: relative;}#sk-container-id-1 div.sk-item {position: relative;z-index: 1;}#sk-container-id-1 div.sk-parallel {display: flex;align-items: stretch;justify-content: center;background-color: white;position: relative;}#sk-container-id-1 div.sk-item::before, #sk-container-id-1 div.sk-parallel-item::before {content: \"\";position: absolute;border-left: 1px solid gray;box-sizing: border-box;top: 0;bottom: 0;left: 50%;z-index: -1;}#sk-container-id-1 div.sk-parallel-item {display: flex;flex-direction: column;z-index: 1;position: relative;background-color: white;}#sk-container-id-1 div.sk-parallel-item:first-child::after {align-self: flex-end;width: 50%;}#sk-container-id-1 div.sk-parallel-item:last-child::after {align-self: flex-start;width: 50%;}#sk-container-id-1 div.sk-parallel-item:only-child::after {width: 0;}#sk-container-id-1 div.sk-dashed-wrapped {border: 1px dashed gray;margin: 0 0.4em 0.5em 0.4em;box-sizing: border-box;padding-bottom: 0.4em;background-color: white;}#sk-container-id-1 div.sk-label label {font-family: monospace;font-weight: bold;display: inline-block;line-height: 1.2em;}#sk-container-id-1 div.sk-label-container {text-align: center;}#sk-container-id-1 div.sk-container {/* jupyter's `normalize.less` sets `[hidden] { display: none; }` but bootstrap.min.css set `[hidden] { display: none !important; }` so we also need the `!important` here to be able to override the default hidden behavior on the sphinx rendered scikit-learn.org. See: https://github.com/scikit-learn/scikit-learn/issues/21755 */display: inline-block !important;position: relative;}#sk-container-id-1 div.sk-text-repr-fallback {display: none;}</style><div id=\"sk-container-id-1\" class=\"sk-top-container\"><div class=\"sk-text-repr-fallback\"><pre>GradientBoostingRegressor(learning_rate=1, loss=&#x27;ls&#x27;, n_estimators=50,\n",
       "                          verbose=2)</pre><b>In a Jupyter environment, please rerun this cell to show the HTML representation or trust the notebook. <br />On GitHub, the HTML representation is unable to render, please try loading this page with nbviewer.org.</b></div><div class=\"sk-container\" hidden><div class=\"sk-item\"><div class=\"sk-estimator sk-toggleable\"><input class=\"sk-toggleable__control sk-hidden--visually\" id=\"sk-estimator-id-1\" type=\"checkbox\" checked><label for=\"sk-estimator-id-1\" class=\"sk-toggleable__label sk-toggleable__label-arrow\">GradientBoostingRegressor</label><div class=\"sk-toggleable__content\"><pre>GradientBoostingRegressor(learning_rate=1, loss=&#x27;ls&#x27;, n_estimators=50,\n",
       "                          verbose=2)</pre></div></div></div></div></div>"
      ],
      "text/plain": [
       "GradientBoostingRegressor(learning_rate=1, loss='ls', n_estimators=50,\n",
       "                          verbose=2)"
      ]
     },
     "execution_count": 38,
     "metadata": {},
     "output_type": "execute_result"
    }
   ],
   "source": [
    "GBR.fit(polytrain,Y)"
   ]
  },
  {
   "cell_type": "code",
   "execution_count": 39,
   "metadata": {},
   "outputs": [],
   "source": [
    "GBRans = GBR.predict(polytest)"
   ]
  },
  {
   "cell_type": "markdown",
   "metadata": {},
   "source": [
    "# Polynomial Regression and Features"
   ]
  },
  {
   "cell_type": "code",
   "execution_count": 32,
   "metadata": {},
   "outputs": [],
   "source": [
    "from sklearn.preprocessing import PolynomialFeatures\n",
    "poly = PolynomialFeatures(degree=3,interaction_only=True)"
   ]
  },
  {
   "cell_type": "markdown",
   "metadata": {},
   "source": [
    "# Forward Selection"
   ]
  },
  {
   "cell_type": "code",
   "execution_count": 22,
   "metadata": {},
   "outputs": [],
   "source": [
    "sfs1 = sfs(clf, k_features=10, forward=True, n_jobs =-1,verbose=2, scoring='neg_mean_squared_error')"
   ]
  },
  {
   "cell_type": "code",
   "execution_count": 23,
   "metadata": {},
   "outputs": [
    {
     "name": "stderr",
     "output_type": "stream",
     "text": [
      "[Parallel(n_jobs=1)]: Using backend SequentialBackend with 1 concurrent workers.\n",
      "[Parallel(n_jobs=1)]: Done   1 out of   1 | elapsed:    0.0s remaining:    0.0s\n",
      "[Parallel(n_jobs=1)]: Done 208 out of 208 | elapsed:   15.8s finished\n",
      "\n",
      "[2022-11-19 19:52:08] Features: 1/10 -- score: -12861708095086.623[Parallel(n_jobs=1)]: Using backend SequentialBackend with 1 concurrent workers.\n",
      "[Parallel(n_jobs=1)]: Done   1 out of   1 | elapsed:    0.1s remaining:    0.0s\n",
      "[Parallel(n_jobs=1)]: Done 207 out of 207 | elapsed:   36.7s finished\n",
      "\n",
      "[2022-11-19 19:52:44] Features: 2/10 -- score: -12148326675876.402[Parallel(n_jobs=1)]: Using backend SequentialBackend with 1 concurrent workers.\n",
      "[Parallel(n_jobs=1)]: Done   1 out of   1 | elapsed:    0.1s remaining:    0.0s\n",
      "[Parallel(n_jobs=1)]: Done 206 out of 206 | elapsed:   39.4s finished\n",
      "\n",
      "[2022-11-19 19:53:24] Features: 3/10 -- score: -11704713715729.682[Parallel(n_jobs=1)]: Using backend SequentialBackend with 1 concurrent workers.\n",
      "[Parallel(n_jobs=1)]: Done   1 out of   1 | elapsed:    0.2s remaining:    0.0s\n",
      "[Parallel(n_jobs=1)]: Done 205 out of 205 | elapsed:   45.0s finished\n",
      "\n",
      "[2022-11-19 19:54:09] Features: 4/10 -- score: -11576163902221.14[Parallel(n_jobs=1)]: Using backend SequentialBackend with 1 concurrent workers.\n",
      "[Parallel(n_jobs=1)]: Done   1 out of   1 | elapsed:    0.1s remaining:    0.0s\n",
      "[Parallel(n_jobs=1)]: Done 204 out of 204 | elapsed:   51.6s finished\n",
      "\n",
      "[2022-11-19 19:55:01] Features: 5/10 -- score: -11480607998012.092[Parallel(n_jobs=1)]: Using backend SequentialBackend with 1 concurrent workers.\n",
      "[Parallel(n_jobs=1)]: Done   1 out of   1 | elapsed:    0.2s remaining:    0.0s\n",
      "[Parallel(n_jobs=1)]: Done 203 out of 203 | elapsed:   54.8s finished\n",
      "\n",
      "[2022-11-19 19:55:56] Features: 6/10 -- score: -11413933324224.293[Parallel(n_jobs=1)]: Using backend SequentialBackend with 1 concurrent workers.\n",
      "[Parallel(n_jobs=1)]: Done   1 out of   1 | elapsed:    0.2s remaining:    0.0s\n",
      "[Parallel(n_jobs=1)]: Done 202 out of 202 | elapsed:   53.7s finished\n",
      "\n",
      "[2022-11-19 19:56:49] Features: 7/10 -- score: -11353417891330.459[Parallel(n_jobs=1)]: Using backend SequentialBackend with 1 concurrent workers.\n",
      "[Parallel(n_jobs=1)]: Done   1 out of   1 | elapsed:    0.2s remaining:    0.0s\n",
      "[Parallel(n_jobs=1)]: Done 201 out of 201 | elapsed:   57.8s finished\n",
      "\n",
      "[2022-11-19 19:57:47] Features: 8/10 -- score: -11296732443345.621[Parallel(n_jobs=1)]: Using backend SequentialBackend with 1 concurrent workers.\n",
      "[Parallel(n_jobs=1)]: Done   1 out of   1 | elapsed:    0.1s remaining:    0.0s\n",
      "[Parallel(n_jobs=1)]: Done 200 out of 200 | elapsed:  1.0min finished\n",
      "\n",
      "[2022-11-19 19:58:49] Features: 9/10 -- score: -11245676995277.84[Parallel(n_jobs=1)]: Using backend SequentialBackend with 1 concurrent workers.\n",
      "[Parallel(n_jobs=1)]: Done   1 out of   1 | elapsed:    0.3s remaining:    0.0s\n",
      "[Parallel(n_jobs=1)]: Done 199 out of 199 | elapsed:  1.1min finished\n",
      "\n",
      "[2022-11-19 19:59:58] Features: 10/10 -- score: -11192955186034.184"
     ]
    }
   ],
   "source": [
    "sfs1 = sfs1.fit(train7, Y)"
   ]
  },
  {
   "cell_type": "code",
   "execution_count": 24,
   "metadata": {},
   "outputs": [
    {
     "name": "stdout",
     "output_type": "stream",
     "text": [
      "[0, 16, 23, 59, 81, 111, 119, 127, 137, 167]\n"
     ]
    }
   ],
   "source": [
    "feat_names = list(sfs1.k_feature_names_)\n",
    "print(feat_names)"
   ]
  },
  {
   "cell_type": "code",
   "execution_count": 25,
   "metadata": {},
   "outputs": [],
   "source": [
    "train7 = train7[feat_names]\n",
    "test6 = test6[feat_names]"
   ]
  },
  {
   "cell_type": "markdown",
   "metadata": {},
   "source": [
    "# Backward Selection"
   ]
  },
  {
   "cell_type": "code",
   "execution_count": 34,
   "metadata": {},
   "outputs": [],
   "source": [
    "\n",
    "def backward_elimination(data, target,significance_level = 0.05):\n",
    "    features = data.columns.tolist()\n",
    "    while(len(features)>0):\n",
    "        features_with_constant = sm.add_constant(data[features])\n",
    "        p_values = sm.OLS(target, features_with_constant).fit().pvalues[1:]\n",
    "        max_p_value = p_values.max()\n",
    "        if(max_p_value >= significance_level):\n",
    "            excluded_feature = p_values.idxmax()\n",
    "            features.remove(excluded_feature)\n",
    "        else:\n",
    "            break \n",
    "    return features\n"
   ]
  },
  {
   "cell_type": "code",
   "execution_count": 68,
   "metadata": {},
   "outputs": [],
   "source": [
    "f=backward_elimination(train7,Y)\n",
    "train7=train7[f]\n",
    "test6 = test6[f]"
   ]
  },
  {
   "cell_type": "code",
   "execution_count": 26,
   "metadata": {},
   "outputs": [
    {
     "data": {
      "text/plain": [
       "(100000, 141)"
      ]
     },
     "execution_count": 26,
     "metadata": {},
     "output_type": "execute_result"
    }
   ],
   "source": [
    "train7.shape"
   ]
  },
  {
   "cell_type": "markdown",
   "metadata": {},
   "source": [
    "# Decision Tree Regressor"
   ]
  },
  {
   "cell_type": "code",
   "execution_count": 45,
   "metadata": {},
   "outputs": [],
   "source": [
    "DecRegressor = DecisionTreeRegressor(max_depth=200)"
   ]
  },
  {
   "cell_type": "code",
   "execution_count": 46,
   "metadata": {},
   "outputs": [
    {
     "data": {
      "text/html": [
       "<style>#sk-container-id-3 {color: black;background-color: white;}#sk-container-id-3 pre{padding: 0;}#sk-container-id-3 div.sk-toggleable {background-color: white;}#sk-container-id-3 label.sk-toggleable__label {cursor: pointer;display: block;width: 100%;margin-bottom: 0;padding: 0.3em;box-sizing: border-box;text-align: center;}#sk-container-id-3 label.sk-toggleable__label-arrow:before {content: \"▸\";float: left;margin-right: 0.25em;color: #696969;}#sk-container-id-3 label.sk-toggleable__label-arrow:hover:before {color: black;}#sk-container-id-3 div.sk-estimator:hover label.sk-toggleable__label-arrow:before {color: black;}#sk-container-id-3 div.sk-toggleable__content {max-height: 0;max-width: 0;overflow: hidden;text-align: left;background-color: #f0f8ff;}#sk-container-id-3 div.sk-toggleable__content pre {margin: 0.2em;color: black;border-radius: 0.25em;background-color: #f0f8ff;}#sk-container-id-3 input.sk-toggleable__control:checked~div.sk-toggleable__content {max-height: 200px;max-width: 100%;overflow: auto;}#sk-container-id-3 input.sk-toggleable__control:checked~label.sk-toggleable__label-arrow:before {content: \"▾\";}#sk-container-id-3 div.sk-estimator input.sk-toggleable__control:checked~label.sk-toggleable__label {background-color: #d4ebff;}#sk-container-id-3 div.sk-label input.sk-toggleable__control:checked~label.sk-toggleable__label {background-color: #d4ebff;}#sk-container-id-3 input.sk-hidden--visually {border: 0;clip: rect(1px 1px 1px 1px);clip: rect(1px, 1px, 1px, 1px);height: 1px;margin: -1px;overflow: hidden;padding: 0;position: absolute;width: 1px;}#sk-container-id-3 div.sk-estimator {font-family: monospace;background-color: #f0f8ff;border: 1px dotted black;border-radius: 0.25em;box-sizing: border-box;margin-bottom: 0.5em;}#sk-container-id-3 div.sk-estimator:hover {background-color: #d4ebff;}#sk-container-id-3 div.sk-parallel-item::after {content: \"\";width: 100%;border-bottom: 1px solid gray;flex-grow: 1;}#sk-container-id-3 div.sk-label:hover label.sk-toggleable__label {background-color: #d4ebff;}#sk-container-id-3 div.sk-serial::before {content: \"\";position: absolute;border-left: 1px solid gray;box-sizing: border-box;top: 0;bottom: 0;left: 50%;z-index: 0;}#sk-container-id-3 div.sk-serial {display: flex;flex-direction: column;align-items: center;background-color: white;padding-right: 0.2em;padding-left: 0.2em;position: relative;}#sk-container-id-3 div.sk-item {position: relative;z-index: 1;}#sk-container-id-3 div.sk-parallel {display: flex;align-items: stretch;justify-content: center;background-color: white;position: relative;}#sk-container-id-3 div.sk-item::before, #sk-container-id-3 div.sk-parallel-item::before {content: \"\";position: absolute;border-left: 1px solid gray;box-sizing: border-box;top: 0;bottom: 0;left: 50%;z-index: -1;}#sk-container-id-3 div.sk-parallel-item {display: flex;flex-direction: column;z-index: 1;position: relative;background-color: white;}#sk-container-id-3 div.sk-parallel-item:first-child::after {align-self: flex-end;width: 50%;}#sk-container-id-3 div.sk-parallel-item:last-child::after {align-self: flex-start;width: 50%;}#sk-container-id-3 div.sk-parallel-item:only-child::after {width: 0;}#sk-container-id-3 div.sk-dashed-wrapped {border: 1px dashed gray;margin: 0 0.4em 0.5em 0.4em;box-sizing: border-box;padding-bottom: 0.4em;background-color: white;}#sk-container-id-3 div.sk-label label {font-family: monospace;font-weight: bold;display: inline-block;line-height: 1.2em;}#sk-container-id-3 div.sk-label-container {text-align: center;}#sk-container-id-3 div.sk-container {/* jupyter's `normalize.less` sets `[hidden] { display: none; }` but bootstrap.min.css set `[hidden] { display: none !important; }` so we also need the `!important` here to be able to override the default hidden behavior on the sphinx rendered scikit-learn.org. See: https://github.com/scikit-learn/scikit-learn/issues/21755 */display: inline-block !important;position: relative;}#sk-container-id-3 div.sk-text-repr-fallback {display: none;}</style><div id=\"sk-container-id-3\" class=\"sk-top-container\"><div class=\"sk-text-repr-fallback\"><pre>DecisionTreeRegressor(max_depth=200)</pre><b>In a Jupyter environment, please rerun this cell to show the HTML representation or trust the notebook. <br />On GitHub, the HTML representation is unable to render, please try loading this page with nbviewer.org.</b></div><div class=\"sk-container\" hidden><div class=\"sk-item\"><div class=\"sk-estimator sk-toggleable\"><input class=\"sk-toggleable__control sk-hidden--visually\" id=\"sk-estimator-id-3\" type=\"checkbox\" checked><label for=\"sk-estimator-id-3\" class=\"sk-toggleable__label sk-toggleable__label-arrow\">DecisionTreeRegressor</label><div class=\"sk-toggleable__content\"><pre>DecisionTreeRegressor(max_depth=200)</pre></div></div></div></div></div>"
      ],
      "text/plain": [
       "DecisionTreeRegressor(max_depth=200)"
      ]
     },
     "execution_count": 46,
     "metadata": {},
     "output_type": "execute_result"
    }
   ],
   "source": [
    "DecRegressor.fit(polytrain,Y)"
   ]
  },
  {
   "cell_type": "code",
   "execution_count": 47,
   "metadata": {},
   "outputs": [],
   "source": [
    "decans = DecRegressor.predict(polytest)"
   ]
  },
  {
   "cell_type": "code",
   "execution_count": 54,
   "metadata": {},
   "outputs": [],
   "source": [
    "regressor = RandomForestRegressor(n_estimators = 800, random_state = 0,n_jobs = -1,verbose=2)"
   ]
  },
  {
   "cell_type": "code",
   "execution_count": 55,
   "metadata": {},
   "outputs": [
    {
     "name": "stderr",
     "output_type": "stream",
     "text": [
      "[Parallel(n_jobs=-1)]: Using backend ThreadingBackend with 4 concurrent workers.\n"
     ]
    },
    {
     "name": "stdout",
     "output_type": "stream",
     "text": [
      "building tree 1 of 800building tree 2 of 800\n",
      "building tree 3 of 800\n",
      "\n",
      "building tree 4 of 800\n",
      "building tree 5 of 800\n",
      "building tree 6 of 800\n",
      "building tree 7 of 800\n",
      "building tree 8 of 800\n",
      "building tree 9 of 800\n",
      "building tree 10 of 800\n",
      "building tree 11 of 800\n",
      "building tree 12 of 800\n",
      "building tree 13 of 800\n",
      "building tree 14 of 800\n",
      "building tree 15 of 800\n",
      "building tree 16 of 800\n",
      "building tree 17 of 800\n",
      "building tree 18 of 800\n",
      "building tree 19 of 800\n",
      "building tree 20 of 800\n",
      "building tree 21 of 800\n",
      "building tree 22 of 800\n",
      "building tree 23 of 800\n",
      "building tree 24 of 800\n",
      "building tree 25 of 800\n",
      "building tree 26 of 800\n",
      "building tree 27 of 800\n",
      "building tree 28 of 800\n",
      "building tree 29 of 800\n",
      "building tree 30 of 800\n",
      "building tree 31 of 800\n",
      "building tree 32 of 800\n",
      "building tree 33 of 800\n",
      "building tree 34 of 800\n",
      "building tree 35 of 800\n",
      "building tree 36 of 800\n",
      "building tree 37 of 800\n"
     ]
    },
    {
     "name": "stderr",
     "output_type": "stream",
     "text": [
      "[Parallel(n_jobs=-1)]: Done  33 tasks      | elapsed:  3.2min\n"
     ]
    },
    {
     "name": "stdout",
     "output_type": "stream",
     "text": [
      "building tree 38 of 800\n",
      "building tree 39 of 800\n",
      "building tree 40 of 800\n",
      "building tree 41 of 800\n",
      "building tree 42 of 800\n",
      "building tree 43 of 800\n",
      "building tree 44 of 800\n",
      "building tree 45 of 800\n",
      "building tree 46 of 800\n",
      "building tree 47 of 800\n",
      "building tree 48 of 800\n",
      "building tree 49 of 800\n",
      "building tree 50 of 800\n",
      "building tree 51 of 800\n",
      "building tree 52 of 800\n",
      "building tree 53 of 800\n",
      "building tree 54 of 800\n",
      "building tree 55 of 800\n",
      "building tree 56 of 800\n",
      "building tree 57 of 800\n",
      "building tree 58 of 800\n",
      "building tree 59 of 800\n",
      "building tree 60 of 800\n",
      "building tree 61 of 800\n",
      "building tree 62 of 800\n",
      "building tree 63 of 800\n",
      "building tree 64 of 800\n",
      "building tree 65 of 800\n",
      "building tree 66 of 800\n",
      "building tree 67 of 800\n",
      "building tree 68 of 800\n",
      "building tree 69 of 800\n",
      "building tree 70 of 800\n",
      "building tree 71 of 800\n",
      "building tree 72 of 800\n",
      "building tree 73 of 800\n",
      "building tree 74 of 800\n",
      "building tree 75 of 800\n",
      "building tree 76 of 800\n",
      "building tree 77 of 800\n",
      "building tree 78 of 800\n",
      "building tree 79 of 800\n",
      "building tree 80 of 800\n",
      "building tree 81 of 800\n",
      "building tree 82 of 800\n",
      "building tree 83 of 800\n",
      "building tree 84 of 800\n",
      "building tree 85 of 800\n",
      "building tree 86 of 800\n",
      "building tree 87 of 800\n",
      "building tree 88 of 800\n",
      "building tree 89 of 800\n",
      "building tree 90 of 800\n",
      "building tree 91 of 800\n",
      "building tree 92 of 800\n",
      "building tree 93 of 800\n",
      "building tree 94 of 800\n",
      "building tree 95 of 800\n",
      "building tree 96 of 800\n",
      "building tree 97 of 800\n",
      "building tree 98 of 800\n",
      "building tree 99 of 800\n",
      "building tree 100 of 800\n",
      "building tree 101 of 800\n",
      "building tree 102 of 800\n",
      "building tree 103 of 800\n",
      "building tree 104 of 800\n",
      "building tree 105 of 800\n",
      "building tree 106 of 800\n",
      "building tree 107 of 800\n",
      "building tree 108 of 800\n",
      "building tree 109 of 800\n",
      "building tree 110 of 800\n",
      "building tree 111 of 800\n",
      "building tree 112 of 800\n",
      "building tree 113 of 800\n",
      "building tree 114 of 800\n",
      "building tree 115 of 800\n",
      "building tree 116 of 800\n",
      "building tree 117 of 800\n",
      "building tree 118 of 800\n",
      "building tree 119 of 800\n",
      "building tree 120 of 800\n",
      "building tree 121 of 800\n",
      "building tree 122 of 800\n",
      "building tree 123 of 800\n",
      "building tree 124 of 800\n",
      "building tree 125 of 800\n",
      "building tree 126 of 800\n",
      "building tree 127 of 800\n",
      "building tree 128 of 800\n",
      "building tree 129 of 800\n",
      "building tree 130 of 800\n",
      "building tree 131 of 800\n",
      "building tree 132 of 800\n",
      "building tree 133 of 800\n",
      "building tree 134 of 800\n",
      "building tree 135 of 800\n",
      "building tree 136 of 800\n",
      "building tree 137 of 800\n",
      "building tree 138 of 800\n",
      "building tree 139 of 800\n",
      "building tree 140 of 800\n",
      "building tree 141 of 800\n",
      "building tree 142 of 800\n",
      "building tree 143 of 800\n",
      "building tree 144 of 800\n",
      "building tree 145 of 800\n",
      "building tree 146 of 800\n",
      "building tree 147 of 800\n",
      "building tree 148 of 800\n",
      "building tree 149 of 800\n",
      "building tree 150 of 800\n",
      "building tree 151 of 800\n",
      "building tree 152 of 800\n",
      "building tree 153 of 800\n",
      "building tree 154 of 800\n",
      "building tree 155 of 800\n",
      "building tree 156 of 800\n",
      "building tree 157 of 800\n",
      "building tree 158 of 800\n"
     ]
    },
    {
     "name": "stderr",
     "output_type": "stream",
     "text": [
      "[Parallel(n_jobs=-1)]: Done 154 tasks      | elapsed: 14.5min\n"
     ]
    },
    {
     "name": "stdout",
     "output_type": "stream",
     "text": [
      "building tree 159 of 800\n",
      "building tree 160 of 800\n",
      "building tree 161 of 800\n",
      "building tree 162 of 800\n",
      "building tree 163 of 800\n",
      "building tree 164 of 800\n",
      "building tree 165 of 800\n",
      "building tree 166 of 800\n",
      "building tree 167 of 800\n",
      "building tree 168 of 800\n",
      "building tree 169 of 800\n",
      "building tree 170 of 800\n",
      "building tree 171 of 800\n",
      "building tree 172 of 800\n",
      "building tree 173 of 800\n",
      "building tree 174 of 800\n",
      "building tree 175 of 800\n",
      "building tree 176 of 800\n",
      "building tree 177 of 800\n",
      "building tree 178 of 800\n",
      "building tree 179 of 800\n",
      "building tree 180 of 800\n",
      "building tree 181 of 800\n",
      "building tree 182 of 800\n",
      "building tree 183 of 800\n",
      "building tree 184 of 800\n",
      "building tree 185 of 800\n",
      "building tree 186 of 800\n",
      "building tree 187 of 800\n",
      "building tree 188 of 800\n",
      "building tree 189 of 800\n",
      "building tree 190 of 800\n",
      "building tree 191 of 800\n",
      "building tree 192 of 800\n",
      "building tree 193 of 800\n",
      "building tree 194 of 800\n",
      "building tree 195 of 800\n",
      "building tree 196 of 800\n",
      "building tree 197 of 800\n",
      "building tree 198 of 800\n",
      "building tree 199 of 800\n",
      "building tree 200 of 800\n",
      "building tree 201 of 800\n",
      "building tree 202 of 800\n",
      "building tree 203 of 800\n",
      "building tree 204 of 800\n",
      "building tree 205 of 800\n",
      "building tree 206 of 800\n",
      "building tree 207 of 800\n",
      "building tree 208 of 800\n",
      "building tree 209 of 800\n",
      "building tree 210 of 800\n",
      "building tree 211 of 800\n",
      "building tree 212 of 800\n",
      "building tree 213 of 800\n",
      "building tree 214 of 800\n",
      "building tree 215 of 800\n",
      "building tree 216 of 800\n",
      "building tree 217 of 800\n",
      "building tree 218 of 800\n",
      "building tree 219 of 800\n",
      "building tree 220 of 800\n",
      "building tree 221 of 800\n",
      "building tree 222 of 800\n",
      "building tree 223 of 800\n",
      "building tree 224 of 800\n",
      "building tree 225 of 800\n",
      "building tree 226 of 800\n",
      "building tree 227 of 800\n",
      "building tree 228 of 800\n",
      "building tree 229 of 800\n",
      "building tree 230 of 800\n",
      "building tree 231 of 800\n",
      "building tree 232 of 800\n",
      "building tree 233 of 800\n",
      "building tree 234 of 800\n",
      "building tree 235 of 800\n",
      "building tree 236 of 800\n",
      "building tree 237 of 800\n",
      "building tree 238 of 800\n",
      "building tree 239 of 800\n",
      "building tree 240 of 800\n",
      "building tree 241 of 800\n",
      "building tree 242 of 800\n",
      "building tree 243 of 800\n",
      "building tree 244 of 800\n",
      "building tree 245 of 800\n",
      "building tree 246 of 800\n",
      "building tree 247 of 800\n",
      "building tree 248 of 800\n",
      "building tree 249 of 800\n",
      "building tree 250 of 800\n",
      "building tree 251 of 800\n",
      "building tree 252 of 800\n",
      "building tree 253 of 800\n",
      "building tree 254 of 800\n",
      "building tree 255 of 800\n",
      "building tree 256 of 800\n",
      "building tree 257 of 800\n",
      "building tree 258 of 800\n",
      "building tree 259 of 800\n",
      "building tree 260 of 800\n",
      "building tree 261 of 800\n",
      "building tree 262 of 800\n",
      "building tree 263 of 800\n",
      "building tree 264 of 800\n",
      "building tree 265 of 800\n",
      "building tree 266 of 800\n",
      "building tree 267 of 800\n",
      "building tree 268 of 800\n",
      "building tree 269 of 800\n",
      "building tree 270 of 800\n",
      "building tree 271 of 800\n",
      "building tree 272 of 800\n",
      "building tree 273 of 800\n",
      "building tree 274 of 800\n",
      "building tree 275 of 800\n",
      "building tree 276 of 800\n",
      "building tree 277 of 800\n",
      "building tree 278 of 800\n",
      "building tree 279 of 800\n",
      "building tree 280 of 800\n",
      "building tree 281 of 800\n",
      "building tree 282 of 800\n",
      "building tree 283 of 800\n",
      "building tree 284 of 800\n",
      "building tree 285 of 800\n",
      "building tree 286 of 800\n",
      "building tree 287 of 800\n",
      "building tree 288 of 800\n",
      "building tree 289 of 800\n",
      "building tree 290 of 800\n",
      "building tree 291 of 800\n",
      "building tree 292 of 800\n",
      "building tree 293 of 800\n",
      "building tree 294 of 800\n",
      "building tree 295 of 800\n",
      "building tree 296 of 800\n",
      "building tree 297 of 800\n",
      "building tree 298 of 800\n",
      "building tree 299 of 800\n",
      "building tree 300 of 800\n",
      "building tree 301 of 800\n",
      "building tree 302 of 800\n",
      "building tree 303 of 800\n",
      "building tree 304 of 800\n",
      "building tree 305 of 800\n",
      "building tree 306 of 800\n",
      "building tree 307 of 800\n",
      "building tree 308 of 800\n",
      "building tree 309 of 800\n",
      "building tree 310 of 800\n",
      "building tree 311 of 800\n",
      "building tree 312 of 800\n",
      "building tree 313 of 800\n",
      "building tree 314 of 800\n",
      "building tree 315 of 800\n",
      "building tree 316 of 800\n",
      "building tree 317 of 800\n",
      "building tree 318 of 800\n",
      "building tree 319 of 800\n",
      "building tree 320 of 800\n",
      "building tree 321 of 800\n",
      "building tree 322 of 800\n",
      "building tree 323 of 800\n",
      "building tree 324 of 800\n",
      "building tree 325 of 800\n",
      "building tree 326 of 800\n",
      "building tree 327 of 800\n",
      "building tree 328 of 800\n",
      "building tree 329 of 800\n",
      "building tree 330 of 800\n",
      "building tree 331 of 800\n",
      "building tree 332 of 800\n",
      "building tree 333 of 800\n",
      "building tree 334 of 800\n",
      "building tree 335 of 800\n",
      "building tree 336 of 800\n",
      "building tree 337 of 800\n",
      "building tree 338 of 800\n",
      "building tree 339 of 800\n",
      "building tree 340 of 800\n",
      "building tree 341 of 800\n",
      "building tree 342 of 800\n",
      "building tree 343 of 800\n",
      "building tree 344 of 800\n",
      "building tree 345 of 800\n",
      "building tree 346 of 800\n",
      "building tree 347 of 800\n",
      "building tree 348 of 800\n",
      "building tree 349 of 800\n",
      "building tree 350 of 800\n",
      "building tree 351 of 800\n",
      "building tree 352 of 800\n",
      "building tree 353 of 800\n",
      "building tree 354 of 800\n",
      "building tree 355 of 800\n",
      "building tree 356 of 800\n",
      "building tree 357 of 800\n",
      "building tree 358 of 800\n",
      "building tree 359 of 800\n",
      "building tree 360 of 800\n",
      "building tree 361 of 800\n"
     ]
    },
    {
     "name": "stderr",
     "output_type": "stream",
     "text": [
      "[Parallel(n_jobs=-1)]: Done 357 tasks      | elapsed: 33.9min\n"
     ]
    },
    {
     "name": "stdout",
     "output_type": "stream",
     "text": [
      "building tree 362 of 800\n",
      "building tree 363 of 800\n",
      "building tree 364 of 800\n",
      "building tree 365 of 800\n",
      "building tree 366 of 800\n",
      "building tree 367 of 800\n",
      "building tree 368 of 800\n",
      "building tree 369 of 800\n",
      "building tree 370 of 800\n",
      "building tree 371 of 800\n",
      "building tree 372 of 800\n",
      "building tree 373 of 800\n",
      "building tree 374 of 800\n",
      "building tree 375 of 800\n",
      "building tree 376 of 800\n",
      "building tree 377 of 800\n",
      "building tree 378 of 800\n",
      "building tree 379 of 800\n",
      "building tree 380 of 800\n",
      "building tree 381 of 800\n",
      "building tree 382 of 800\n",
      "building tree 383 of 800\n",
      "building tree 384 of 800\n",
      "building tree 385 of 800\n",
      "building tree 386 of 800\n",
      "building tree 387 of 800\n",
      "building tree 388 of 800\n",
      "building tree 389 of 800\n",
      "building tree 390 of 800\n",
      "building tree 391 of 800\n",
      "building tree 392 of 800\n",
      "building tree 393 of 800\n",
      "building tree 394 of 800\n",
      "building tree 395 of 800\n",
      "building tree 396 of 800\n",
      "building tree 397 of 800\n",
      "building tree 398 of 800\n",
      "building tree 399 of 800\n",
      "building tree 400 of 800\n",
      "building tree 401 of 800\n",
      "building tree 402 of 800\n",
      "building tree 403 of 800\n",
      "building tree 404 of 800\n",
      "building tree 405 of 800\n",
      "building tree 406 of 800\n",
      "building tree 407 of 800\n",
      "building tree 408 of 800\n",
      "building tree 409 of 800\n",
      "building tree 410 of 800\n",
      "building tree 411 of 800\n",
      "building tree 412 of 800\n",
      "building tree 413 of 800\n",
      "building tree 414 of 800\n",
      "building tree 415 of 800\n",
      "building tree 416 of 800\n",
      "building tree 417 of 800\n",
      "building tree 418 of 800\n",
      "building tree 419 of 800\n",
      "building tree 420 of 800\n",
      "building tree 421 of 800\n",
      "building tree 422 of 800\n",
      "building tree 423 of 800\n",
      "building tree 424 of 800\n",
      "building tree 425 of 800\n",
      "building tree 426 of 800\n",
      "building tree 427 of 800\n",
      "building tree 428 of 800\n",
      "building tree 429 of 800\n",
      "building tree 430 of 800\n",
      "building tree 431 of 800\n",
      "building tree 432 of 800\n",
      "building tree 433 of 800\n",
      "building tree 434 of 800\n",
      "building tree 435 of 800\n",
      "building tree 436 of 800\n",
      "building tree 437 of 800\n",
      "building tree 438 of 800\n",
      "building tree 439 of 800\n",
      "building tree 440 of 800\n",
      "building tree 441 of 800\n",
      "building tree 442 of 800\n",
      "building tree 443 of 800\n",
      "building tree 444 of 800\n",
      "building tree 445 of 800\n",
      "building tree 446 of 800\n",
      "building tree 447 of 800\n",
      "building tree 448 of 800\n",
      "building tree 449 of 800\n",
      "building tree 450 of 800\n",
      "building tree 451 of 800\n",
      "building tree 452 of 800\n",
      "building tree 453 of 800\n",
      "building tree 454 of 800\n",
      "building tree 455 of 800\n",
      "building tree 456 of 800\n",
      "building tree 457 of 800\n",
      "building tree 458 of 800\n",
      "building tree 459 of 800\n",
      "building tree 460 of 800\n",
      "building tree 461 of 800\n",
      "building tree 462 of 800\n",
      "building tree 463 of 800\n",
      "building tree 464 of 800\n",
      "building tree 465 of 800\n",
      "building tree 466 of 800\n",
      "building tree 467 of 800\n",
      "building tree 468 of 800\n",
      "building tree 469 of 800\n",
      "building tree 470 of 800\n",
      "building tree 471 of 800\n",
      "building tree 472 of 800\n",
      "building tree 473 of 800\n",
      "building tree 474 of 800\n",
      "building tree 475 of 800\n",
      "building tree 476 of 800\n",
      "building tree 477 of 800\n",
      "building tree 478 of 800\n",
      "building tree 479 of 800\n",
      "building tree 480 of 800\n",
      "building tree 481 of 800\n",
      "building tree 482 of 800\n",
      "building tree 483 of 800\n",
      "building tree 484 of 800\n",
      "building tree 485 of 800\n",
      "building tree 486 of 800\n",
      "building tree 487 of 800\n",
      "building tree 488 of 800\n",
      "building tree 489 of 800\n",
      "building tree 490 of 800\n",
      "building tree 491 of 800\n",
      "building tree 492 of 800\n",
      "building tree 493 of 800\n",
      "building tree 494 of 800\n",
      "building tree 495 of 800\n",
      "building tree 496 of 800\n",
      "building tree 497 of 800\n",
      "building tree 498 of 800\n",
      "building tree 499 of 800\n",
      "building tree 500 of 800\n",
      "building tree 501 of 800\n",
      "building tree 502 of 800\n",
      "building tree 503 of 800\n",
      "building tree 504 of 800\n",
      "building tree 505 of 800\n",
      "building tree 506 of 800\n",
      "building tree 507 of 800\n",
      "building tree 508 of 800\n",
      "building tree 509 of 800\n",
      "building tree 510 of 800\n",
      "building tree 511 of 800\n",
      "building tree 512 of 800\n",
      "building tree 513 of 800\n",
      "building tree 514 of 800\n",
      "building tree 515 of 800\n",
      "building tree 516 of 800\n",
      "building tree 517 of 800\n",
      "building tree 518 of 800\n",
      "building tree 519 of 800\n",
      "building tree 520 of 800\n",
      "building tree 521 of 800\n",
      "building tree 522 of 800\n",
      "building tree 523 of 800\n",
      "building tree 524 of 800\n",
      "building tree 525 of 800\n",
      "building tree 526 of 800\n",
      "building tree 527 of 800\n",
      "building tree 528 of 800\n",
      "building tree 529 of 800\n",
      "building tree 530 of 800\n",
      "building tree 531 of 800\n",
      "building tree 532 of 800\n",
      "building tree 533 of 800\n",
      "building tree 534 of 800\n",
      "building tree 535 of 800\n",
      "building tree 536 of 800\n",
      "building tree 537 of 800\n",
      "building tree 538 of 800\n",
      "building tree 539 of 800\n",
      "building tree 540 of 800\n",
      "building tree 541 of 800\n",
      "building tree 542 of 800\n",
      "building tree 543 of 800\n",
      "building tree 544 of 800\n",
      "building tree 545 of 800\n",
      "building tree 546 of 800\n",
      "building tree 547 of 800\n",
      "building tree 548 of 800\n",
      "building tree 549 of 800\n",
      "building tree 550 of 800\n",
      "building tree 551 of 800\n",
      "building tree 552 of 800\n",
      "building tree 553 of 800\n",
      "building tree 554 of 800\n",
      "building tree 555 of 800\n",
      "building tree 556 of 800\n",
      "building tree 557 of 800\n",
      "building tree 558 of 800\n",
      "building tree 559 of 800\n",
      "building tree 560 of 800\n",
      "building tree 561 of 800\n",
      "building tree 562 of 800\n",
      "building tree 563 of 800\n",
      "building tree 564 of 800\n",
      "building tree 565 of 800\n",
      "building tree 566 of 800\n",
      "building tree 567 of 800\n",
      "building tree 568 of 800\n",
      "building tree 569 of 800\n",
      "building tree 570 of 800\n",
      "building tree 571 of 800\n",
      "building tree 572 of 800\n",
      "building tree 573 of 800\n",
      "building tree 574 of 800\n",
      "building tree 575 of 800\n",
      "building tree 576 of 800\n",
      "building tree 577 of 800\n",
      "building tree 578 of 800\n",
      "building tree 579 of 800\n",
      "building tree 580 of 800\n",
      "building tree 581 of 800\n",
      "building tree 582 of 800\n",
      "building tree 583 of 800\n",
      "building tree 584 of 800\n",
      "building tree 585 of 800\n",
      "building tree 586 of 800\n",
      "building tree 587 of 800\n",
      "building tree 588 of 800\n",
      "building tree 589 of 800\n",
      "building tree 590 of 800\n",
      "building tree 591 of 800\n",
      "building tree 592 of 800\n",
      "building tree 593 of 800\n",
      "building tree 594 of 800\n",
      "building tree 595 of 800\n",
      "building tree 596 of 800\n",
      "building tree 597 of 800\n",
      "building tree 598 of 800\n",
      "building tree 599 of 800\n",
      "building tree 600 of 800\n",
      "building tree 601 of 800\n",
      "building tree 602 of 800\n",
      "building tree 603 of 800\n",
      "building tree 604 of 800\n",
      "building tree 605 of 800\n",
      "building tree 606 of 800\n",
      "building tree 607 of 800\n",
      "building tree 608 of 800\n",
      "building tree 609 of 800\n",
      "building tree 610 of 800\n",
      "building tree 611 of 800\n",
      "building tree 612 of 800\n",
      "building tree 613 of 800\n",
      "building tree 614 of 800\n",
      "building tree 615 of 800\n",
      "building tree 616 of 800\n",
      "building tree 617 of 800\n",
      "building tree 618 of 800\n",
      "building tree 619 of 800\n",
      "building tree 620 of 800\n",
      "building tree 621 of 800\n",
      "building tree 622 of 800\n",
      "building tree 623 of 800\n",
      "building tree 624 of 800\n",
      "building tree 625 of 800\n",
      "building tree 626 of 800\n",
      "building tree 627 of 800\n",
      "building tree 628 of 800\n",
      "building tree 629 of 800\n",
      "building tree 630 of 800\n",
      "building tree 631 of 800\n",
      "building tree 632 of 800\n",
      "building tree 633 of 800\n",
      "building tree 634 of 800\n",
      "building tree 635 of 800\n",
      "building tree 636 of 800\n",
      "building tree 637 of 800\n",
      "building tree 638 of 800\n",
      "building tree 639 of 800\n",
      "building tree 640 of 800\n",
      "building tree 641 of 800\n",
      "building tree 642 of 800\n",
      "building tree 643 of 800\n",
      "building tree 644 of 800\n"
     ]
    },
    {
     "name": "stderr",
     "output_type": "stream",
     "text": [
      "[Parallel(n_jobs=-1)]: Done 640 tasks      | elapsed: 63.1min\n"
     ]
    },
    {
     "name": "stdout",
     "output_type": "stream",
     "text": [
      "building tree 645 of 800\n",
      "building tree 646 of 800\n",
      "building tree 647 of 800\n",
      "building tree 648 of 800\n",
      "building tree 649 of 800\n",
      "building tree 650 of 800\n",
      "building tree 651 of 800\n",
      "building tree 652 of 800\n",
      "building tree 653 of 800\n",
      "building tree 654 of 800\n",
      "building tree 655 of 800\n",
      "building tree 656 of 800\n",
      "building tree 657 of 800\n",
      "building tree 658 of 800\n",
      "building tree 659 of 800\n",
      "building tree 660 of 800\n",
      "building tree 661 of 800\n",
      "building tree 662 of 800\n",
      "building tree 663 of 800\n",
      "building tree 664 of 800\n",
      "building tree 665 of 800\n",
      "building tree 666 of 800\n",
      "building tree 667 of 800\n",
      "building tree 668 of 800\n",
      "building tree 669 of 800\n",
      "building tree 670 of 800\n",
      "building tree 671 of 800\n",
      "building tree 672 of 800\n",
      "building tree 673 of 800\n",
      "building tree 674 of 800\n",
      "building tree 675 of 800\n",
      "building tree 676 of 800\n",
      "building tree 677 of 800\n",
      "building tree 678 of 800\n",
      "building tree 679 of 800\n",
      "building tree 680 of 800\n",
      "building tree 681 of 800\n",
      "building tree 682 of 800\n",
      "building tree 683 of 800\n",
      "building tree 684 of 800\n",
      "building tree 685 of 800\n",
      "building tree 686 of 800\n",
      "building tree 687 of 800\n",
      "building tree 688 of 800\n",
      "building tree 689 of 800\n",
      "building tree 690 of 800\n",
      "building tree 691 of 800\n",
      "building tree 692 of 800\n",
      "building tree 693 of 800\n",
      "building tree 694 of 800\n",
      "building tree 695 of 800\n",
      "building tree 696 of 800\n",
      "building tree 697 of 800\n",
      "building tree 698 of 800\n",
      "building tree 699 of 800\n",
      "building tree 700 of 800\n",
      "building tree 701 of 800\n",
      "building tree 702 of 800\n",
      "building tree 703 of 800\n",
      "building tree 704 of 800\n",
      "building tree 705 of 800\n",
      "building tree 706 of 800\n",
      "building tree 707 of 800\n",
      "building tree 708 of 800\n",
      "building tree 709 of 800\n",
      "building tree 710 of 800\n",
      "building tree 711 of 800\n",
      "building tree 712 of 800\n",
      "building tree 713 of 800\n",
      "building tree 714 of 800\n",
      "building tree 715 of 800\n",
      "building tree 716 of 800\n",
      "building tree 717 of 800\n",
      "building tree 718 of 800\n",
      "building tree 719 of 800\n",
      "building tree 720 of 800\n",
      "building tree 721 of 800\n",
      "building tree 722 of 800\n",
      "building tree 723 of 800\n",
      "building tree 724 of 800\n",
      "building tree 725 of 800\n",
      "building tree 726 of 800\n",
      "building tree 727 of 800\n",
      "building tree 728 of 800\n",
      "building tree 729 of 800\n",
      "building tree 730 of 800\n",
      "building tree 731 of 800\n",
      "building tree 732 of 800\n",
      "building tree 733 of 800\n",
      "building tree 734 of 800\n",
      "building tree 735 of 800\n",
      "building tree 736 of 800\n",
      "building tree 737 of 800\n",
      "building tree 738 of 800\n",
      "building tree 739 of 800\n",
      "building tree 740 of 800\n",
      "building tree 741 of 800\n",
      "building tree 742 of 800\n",
      "building tree 743 of 800\n",
      "building tree 744 of 800\n",
      "building tree 745 of 800\n",
      "building tree 746 of 800\n",
      "building tree 747 of 800\n",
      "building tree 748 of 800\n",
      "building tree 749 of 800\n",
      "building tree 750 of 800\n",
      "building tree 751 of 800\n",
      "building tree 752 of 800\n",
      "building tree 753 of 800\n",
      "building tree 754 of 800\n",
      "building tree 755 of 800\n",
      "building tree 756 of 800\n",
      "building tree 757 of 800\n",
      "building tree 758 of 800\n",
      "building tree 759 of 800\n",
      "building tree 760 of 800\n",
      "building tree 761 of 800\n",
      "building tree 762 of 800\n",
      "building tree 763 of 800\n",
      "building tree 764 of 800\n",
      "building tree 765 of 800\n",
      "building tree 766 of 800\n",
      "building tree 767 of 800\n",
      "building tree 768 of 800\n",
      "building tree 769 of 800\n",
      "building tree 770 of 800\n",
      "building tree 771 of 800\n",
      "building tree 772 of 800\n",
      "building tree 773 of 800\n",
      "building tree 774 of 800\n",
      "building tree 775 of 800\n",
      "building tree 776 of 800\n",
      "building tree 777 of 800\n",
      "building tree 778 of 800\n",
      "building tree 779 of 800\n",
      "building tree 780 of 800\n",
      "building tree 781 of 800\n",
      "building tree 782 of 800\n",
      "building tree 783 of 800\n",
      "building tree 784 of 800\n",
      "building tree 785 of 800\n",
      "building tree 786 of 800\n",
      "building tree 787 of 800\n",
      "building tree 788 of 800\n",
      "building tree 789 of 800\n",
      "building tree 790 of 800\n",
      "building tree 791 of 800\n",
      "building tree 792 of 800\n",
      "building tree 793 of 800\n",
      "building tree 794 of 800\n",
      "building tree 795 of 800\n",
      "building tree 796 of 800\n",
      "building tree 797 of 800\n",
      "building tree 798 of 800\n",
      "building tree 799 of 800\n",
      "building tree 800 of 800\n"
     ]
    },
    {
     "name": "stderr",
     "output_type": "stream",
     "text": [
      "[Parallel(n_jobs=-1)]: Done 800 out of 800 | elapsed: 78.8min finished\n"
     ]
    },
    {
     "data": {
      "text/html": [
       "<style>#sk-container-id-5 {color: black;background-color: white;}#sk-container-id-5 pre{padding: 0;}#sk-container-id-5 div.sk-toggleable {background-color: white;}#sk-container-id-5 label.sk-toggleable__label {cursor: pointer;display: block;width: 100%;margin-bottom: 0;padding: 0.3em;box-sizing: border-box;text-align: center;}#sk-container-id-5 label.sk-toggleable__label-arrow:before {content: \"▸\";float: left;margin-right: 0.25em;color: #696969;}#sk-container-id-5 label.sk-toggleable__label-arrow:hover:before {color: black;}#sk-container-id-5 div.sk-estimator:hover label.sk-toggleable__label-arrow:before {color: black;}#sk-container-id-5 div.sk-toggleable__content {max-height: 0;max-width: 0;overflow: hidden;text-align: left;background-color: #f0f8ff;}#sk-container-id-5 div.sk-toggleable__content pre {margin: 0.2em;color: black;border-radius: 0.25em;background-color: #f0f8ff;}#sk-container-id-5 input.sk-toggleable__control:checked~div.sk-toggleable__content {max-height: 200px;max-width: 100%;overflow: auto;}#sk-container-id-5 input.sk-toggleable__control:checked~label.sk-toggleable__label-arrow:before {content: \"▾\";}#sk-container-id-5 div.sk-estimator input.sk-toggleable__control:checked~label.sk-toggleable__label {background-color: #d4ebff;}#sk-container-id-5 div.sk-label input.sk-toggleable__control:checked~label.sk-toggleable__label {background-color: #d4ebff;}#sk-container-id-5 input.sk-hidden--visually {border: 0;clip: rect(1px 1px 1px 1px);clip: rect(1px, 1px, 1px, 1px);height: 1px;margin: -1px;overflow: hidden;padding: 0;position: absolute;width: 1px;}#sk-container-id-5 div.sk-estimator {font-family: monospace;background-color: #f0f8ff;border: 1px dotted black;border-radius: 0.25em;box-sizing: border-box;margin-bottom: 0.5em;}#sk-container-id-5 div.sk-estimator:hover {background-color: #d4ebff;}#sk-container-id-5 div.sk-parallel-item::after {content: \"\";width: 100%;border-bottom: 1px solid gray;flex-grow: 1;}#sk-container-id-5 div.sk-label:hover label.sk-toggleable__label {background-color: #d4ebff;}#sk-container-id-5 div.sk-serial::before {content: \"\";position: absolute;border-left: 1px solid gray;box-sizing: border-box;top: 0;bottom: 0;left: 50%;z-index: 0;}#sk-container-id-5 div.sk-serial {display: flex;flex-direction: column;align-items: center;background-color: white;padding-right: 0.2em;padding-left: 0.2em;position: relative;}#sk-container-id-5 div.sk-item {position: relative;z-index: 1;}#sk-container-id-5 div.sk-parallel {display: flex;align-items: stretch;justify-content: center;background-color: white;position: relative;}#sk-container-id-5 div.sk-item::before, #sk-container-id-5 div.sk-parallel-item::before {content: \"\";position: absolute;border-left: 1px solid gray;box-sizing: border-box;top: 0;bottom: 0;left: 50%;z-index: -1;}#sk-container-id-5 div.sk-parallel-item {display: flex;flex-direction: column;z-index: 1;position: relative;background-color: white;}#sk-container-id-5 div.sk-parallel-item:first-child::after {align-self: flex-end;width: 50%;}#sk-container-id-5 div.sk-parallel-item:last-child::after {align-self: flex-start;width: 50%;}#sk-container-id-5 div.sk-parallel-item:only-child::after {width: 0;}#sk-container-id-5 div.sk-dashed-wrapped {border: 1px dashed gray;margin: 0 0.4em 0.5em 0.4em;box-sizing: border-box;padding-bottom: 0.4em;background-color: white;}#sk-container-id-5 div.sk-label label {font-family: monospace;font-weight: bold;display: inline-block;line-height: 1.2em;}#sk-container-id-5 div.sk-label-container {text-align: center;}#sk-container-id-5 div.sk-container {/* jupyter's `normalize.less` sets `[hidden] { display: none; }` but bootstrap.min.css set `[hidden] { display: none !important; }` so we also need the `!important` here to be able to override the default hidden behavior on the sphinx rendered scikit-learn.org. See: https://github.com/scikit-learn/scikit-learn/issues/21755 */display: inline-block !important;position: relative;}#sk-container-id-5 div.sk-text-repr-fallback {display: none;}</style><div id=\"sk-container-id-5\" class=\"sk-top-container\"><div class=\"sk-text-repr-fallback\"><pre>RandomForestRegressor(n_estimators=800, n_jobs=-1, random_state=0, verbose=2)</pre><b>In a Jupyter environment, please rerun this cell to show the HTML representation or trust the notebook. <br />On GitHub, the HTML representation is unable to render, please try loading this page with nbviewer.org.</b></div><div class=\"sk-container\" hidden><div class=\"sk-item\"><div class=\"sk-estimator sk-toggleable\"><input class=\"sk-toggleable__control sk-hidden--visually\" id=\"sk-estimator-id-7\" type=\"checkbox\" checked><label for=\"sk-estimator-id-7\" class=\"sk-toggleable__label sk-toggleable__label-arrow\">RandomForestRegressor</label><div class=\"sk-toggleable__content\"><pre>RandomForestRegressor(n_estimators=800, n_jobs=-1, random_state=0, verbose=2)</pre></div></div></div></div></div>"
      ],
      "text/plain": [
       "RandomForestRegressor(n_estimators=800, n_jobs=-1, random_state=0, verbose=2)"
      ]
     },
     "execution_count": 55,
     "metadata": {},
     "output_type": "execute_result"
    }
   ],
   "source": [
    "regressor.fit(polytrain,Y)"
   ]
  },
  {
   "cell_type": "code",
   "execution_count": 56,
   "metadata": {},
   "outputs": [
    {
     "name": "stderr",
     "output_type": "stream",
     "text": [
      "[Parallel(n_jobs=4)]: Using backend ThreadingBackend with 4 concurrent workers.\n",
      "[Parallel(n_jobs=4)]: Done  33 tasks      | elapsed:    0.5s\n",
      "[Parallel(n_jobs=4)]: Done 154 tasks      | elapsed:    3.2s\n",
      "[Parallel(n_jobs=4)]: Done 357 tasks      | elapsed:    8.3s\n",
      "[Parallel(n_jobs=4)]: Done 640 tasks      | elapsed:   16.7s\n",
      "[Parallel(n_jobs=4)]: Done 800 out of 800 | elapsed:   20.3s finished\n"
     ]
    }
   ],
   "source": [
    "regans = regressor.predict(polytest)"
   ]
  },
  {
   "cell_type": "markdown",
   "metadata": {},
   "source": [
    "# Linear and Polynomial Regression"
   ]
  },
  {
   "cell_type": "code",
   "execution_count": 33,
   "metadata": {},
   "outputs": [],
   "source": [
    "polytrain = poly.fit_transform(train7)\n",
    "polytest = poly.fit_transform(test6)"
   ]
  },
  {
   "cell_type": "code",
   "execution_count": 52,
   "metadata": {},
   "outputs": [
    {
     "data": {
      "text/html": [
       "<style>#sk-container-id-2 {color: black;background-color: white;}#sk-container-id-2 pre{padding: 0;}#sk-container-id-2 div.sk-toggleable {background-color: white;}#sk-container-id-2 label.sk-toggleable__label {cursor: pointer;display: block;width: 100%;margin-bottom: 0;padding: 0.3em;box-sizing: border-box;text-align: center;}#sk-container-id-2 label.sk-toggleable__label-arrow:before {content: \"▸\";float: left;margin-right: 0.25em;color: #696969;}#sk-container-id-2 label.sk-toggleable__label-arrow:hover:before {color: black;}#sk-container-id-2 div.sk-estimator:hover label.sk-toggleable__label-arrow:before {color: black;}#sk-container-id-2 div.sk-toggleable__content {max-height: 0;max-width: 0;overflow: hidden;text-align: left;background-color: #f0f8ff;}#sk-container-id-2 div.sk-toggleable__content pre {margin: 0.2em;color: black;border-radius: 0.25em;background-color: #f0f8ff;}#sk-container-id-2 input.sk-toggleable__control:checked~div.sk-toggleable__content {max-height: 200px;max-width: 100%;overflow: auto;}#sk-container-id-2 input.sk-toggleable__control:checked~label.sk-toggleable__label-arrow:before {content: \"▾\";}#sk-container-id-2 div.sk-estimator input.sk-toggleable__control:checked~label.sk-toggleable__label {background-color: #d4ebff;}#sk-container-id-2 div.sk-label input.sk-toggleable__control:checked~label.sk-toggleable__label {background-color: #d4ebff;}#sk-container-id-2 input.sk-hidden--visually {border: 0;clip: rect(1px 1px 1px 1px);clip: rect(1px, 1px, 1px, 1px);height: 1px;margin: -1px;overflow: hidden;padding: 0;position: absolute;width: 1px;}#sk-container-id-2 div.sk-estimator {font-family: monospace;background-color: #f0f8ff;border: 1px dotted black;border-radius: 0.25em;box-sizing: border-box;margin-bottom: 0.5em;}#sk-container-id-2 div.sk-estimator:hover {background-color: #d4ebff;}#sk-container-id-2 div.sk-parallel-item::after {content: \"\";width: 100%;border-bottom: 1px solid gray;flex-grow: 1;}#sk-container-id-2 div.sk-label:hover label.sk-toggleable__label {background-color: #d4ebff;}#sk-container-id-2 div.sk-serial::before {content: \"\";position: absolute;border-left: 1px solid gray;box-sizing: border-box;top: 0;bottom: 0;left: 50%;z-index: 0;}#sk-container-id-2 div.sk-serial {display: flex;flex-direction: column;align-items: center;background-color: white;padding-right: 0.2em;padding-left: 0.2em;position: relative;}#sk-container-id-2 div.sk-item {position: relative;z-index: 1;}#sk-container-id-2 div.sk-parallel {display: flex;align-items: stretch;justify-content: center;background-color: white;position: relative;}#sk-container-id-2 div.sk-item::before, #sk-container-id-2 div.sk-parallel-item::before {content: \"\";position: absolute;border-left: 1px solid gray;box-sizing: border-box;top: 0;bottom: 0;left: 50%;z-index: -1;}#sk-container-id-2 div.sk-parallel-item {display: flex;flex-direction: column;z-index: 1;position: relative;background-color: white;}#sk-container-id-2 div.sk-parallel-item:first-child::after {align-self: flex-end;width: 50%;}#sk-container-id-2 div.sk-parallel-item:last-child::after {align-self: flex-start;width: 50%;}#sk-container-id-2 div.sk-parallel-item:only-child::after {width: 0;}#sk-container-id-2 div.sk-dashed-wrapped {border: 1px dashed gray;margin: 0 0.4em 0.5em 0.4em;box-sizing: border-box;padding-bottom: 0.4em;background-color: white;}#sk-container-id-2 div.sk-label label {font-family: monospace;font-weight: bold;display: inline-block;line-height: 1.2em;}#sk-container-id-2 div.sk-label-container {text-align: center;}#sk-container-id-2 div.sk-container {/* jupyter's `normalize.less` sets `[hidden] { display: none; }` but bootstrap.min.css set `[hidden] { display: none !important; }` so we also need the `!important` here to be able to override the default hidden behavior on the sphinx rendered scikit-learn.org. See: https://github.com/scikit-learn/scikit-learn/issues/21755 */display: inline-block !important;position: relative;}#sk-container-id-2 div.sk-text-repr-fallback {display: none;}</style><div id=\"sk-container-id-2\" class=\"sk-top-container\"><div class=\"sk-text-repr-fallback\"><pre>PolynomialFeatures(degree=5, interaction_only=True)</pre><b>In a Jupyter environment, please rerun this cell to show the HTML representation or trust the notebook. <br />On GitHub, the HTML representation is unable to render, please try loading this page with nbviewer.org.</b></div><div class=\"sk-container\" hidden><div class=\"sk-item\"><div class=\"sk-estimator sk-toggleable\"><input class=\"sk-toggleable__control sk-hidden--visually\" id=\"sk-estimator-id-2\" type=\"checkbox\" checked><label for=\"sk-estimator-id-2\" class=\"sk-toggleable__label sk-toggleable__label-arrow\">PolynomialFeatures</label><div class=\"sk-toggleable__content\"><pre>PolynomialFeatures(degree=5, interaction_only=True)</pre></div></div></div></div></div>"
      ],
      "text/plain": [
       "PolynomialFeatures(degree=5, interaction_only=True)"
      ]
     },
     "execution_count": 52,
     "metadata": {},
     "output_type": "execute_result"
    }
   ],
   "source": [
    "poly.fit(polytrain, Y)"
   ]
  },
  {
   "cell_type": "code",
   "execution_count": 29,
   "metadata": {},
   "outputs": [
    {
     "data": {
      "text/html": [
       "<style>#sk-container-id-1 {color: black;background-color: white;}#sk-container-id-1 pre{padding: 0;}#sk-container-id-1 div.sk-toggleable {background-color: white;}#sk-container-id-1 label.sk-toggleable__label {cursor: pointer;display: block;width: 100%;margin-bottom: 0;padding: 0.3em;box-sizing: border-box;text-align: center;}#sk-container-id-1 label.sk-toggleable__label-arrow:before {content: \"▸\";float: left;margin-right: 0.25em;color: #696969;}#sk-container-id-1 label.sk-toggleable__label-arrow:hover:before {color: black;}#sk-container-id-1 div.sk-estimator:hover label.sk-toggleable__label-arrow:before {color: black;}#sk-container-id-1 div.sk-toggleable__content {max-height: 0;max-width: 0;overflow: hidden;text-align: left;background-color: #f0f8ff;}#sk-container-id-1 div.sk-toggleable__content pre {margin: 0.2em;color: black;border-radius: 0.25em;background-color: #f0f8ff;}#sk-container-id-1 input.sk-toggleable__control:checked~div.sk-toggleable__content {max-height: 200px;max-width: 100%;overflow: auto;}#sk-container-id-1 input.sk-toggleable__control:checked~label.sk-toggleable__label-arrow:before {content: \"▾\";}#sk-container-id-1 div.sk-estimator input.sk-toggleable__control:checked~label.sk-toggleable__label {background-color: #d4ebff;}#sk-container-id-1 div.sk-label input.sk-toggleable__control:checked~label.sk-toggleable__label {background-color: #d4ebff;}#sk-container-id-1 input.sk-hidden--visually {border: 0;clip: rect(1px 1px 1px 1px);clip: rect(1px, 1px, 1px, 1px);height: 1px;margin: -1px;overflow: hidden;padding: 0;position: absolute;width: 1px;}#sk-container-id-1 div.sk-estimator {font-family: monospace;background-color: #f0f8ff;border: 1px dotted black;border-radius: 0.25em;box-sizing: border-box;margin-bottom: 0.5em;}#sk-container-id-1 div.sk-estimator:hover {background-color: #d4ebff;}#sk-container-id-1 div.sk-parallel-item::after {content: \"\";width: 100%;border-bottom: 1px solid gray;flex-grow: 1;}#sk-container-id-1 div.sk-label:hover label.sk-toggleable__label {background-color: #d4ebff;}#sk-container-id-1 div.sk-serial::before {content: \"\";position: absolute;border-left: 1px solid gray;box-sizing: border-box;top: 0;bottom: 0;left: 50%;z-index: 0;}#sk-container-id-1 div.sk-serial {display: flex;flex-direction: column;align-items: center;background-color: white;padding-right: 0.2em;padding-left: 0.2em;position: relative;}#sk-container-id-1 div.sk-item {position: relative;z-index: 1;}#sk-container-id-1 div.sk-parallel {display: flex;align-items: stretch;justify-content: center;background-color: white;position: relative;}#sk-container-id-1 div.sk-item::before, #sk-container-id-1 div.sk-parallel-item::before {content: \"\";position: absolute;border-left: 1px solid gray;box-sizing: border-box;top: 0;bottom: 0;left: 50%;z-index: -1;}#sk-container-id-1 div.sk-parallel-item {display: flex;flex-direction: column;z-index: 1;position: relative;background-color: white;}#sk-container-id-1 div.sk-parallel-item:first-child::after {align-self: flex-end;width: 50%;}#sk-container-id-1 div.sk-parallel-item:last-child::after {align-self: flex-start;width: 50%;}#sk-container-id-1 div.sk-parallel-item:only-child::after {width: 0;}#sk-container-id-1 div.sk-dashed-wrapped {border: 1px dashed gray;margin: 0 0.4em 0.5em 0.4em;box-sizing: border-box;padding-bottom: 0.4em;background-color: white;}#sk-container-id-1 div.sk-label label {font-family: monospace;font-weight: bold;display: inline-block;line-height: 1.2em;}#sk-container-id-1 div.sk-label-container {text-align: center;}#sk-container-id-1 div.sk-container {/* jupyter's `normalize.less` sets `[hidden] { display: none; }` but bootstrap.min.css set `[hidden] { display: none !important; }` so we also need the `!important` here to be able to override the default hidden behavior on the sphinx rendered scikit-learn.org. See: https://github.com/scikit-learn/scikit-learn/issues/21755 */display: inline-block !important;position: relative;}#sk-container-id-1 div.sk-text-repr-fallback {display: none;}</style><div id=\"sk-container-id-1\" class=\"sk-top-container\"><div class=\"sk-text-repr-fallback\"><pre>LinearRegression()</pre><b>In a Jupyter environment, please rerun this cell to show the HTML representation or trust the notebook. <br />On GitHub, the HTML representation is unable to render, please try loading this page with nbviewer.org.</b></div><div class=\"sk-container\" hidden><div class=\"sk-item\"><div class=\"sk-estimator sk-toggleable\"><input class=\"sk-toggleable__control sk-hidden--visually\" id=\"sk-estimator-id-1\" type=\"checkbox\" checked><label for=\"sk-estimator-id-1\" class=\"sk-toggleable__label sk-toggleable__label-arrow\">LinearRegression</label><div class=\"sk-toggleable__content\"><pre>LinearRegression()</pre></div></div></div></div></div>"
      ],
      "text/plain": [
       "LinearRegression()"
      ]
     },
     "execution_count": 29,
     "metadata": {},
     "output_type": "execute_result"
    }
   ],
   "source": [
    "clf.fit(train7,Y)"
   ]
  },
  {
   "cell_type": "code",
   "execution_count": 30,
   "metadata": {},
   "outputs": [],
   "source": [
    "ans = clf.predict(test6)"
   ]
  },
  {
   "cell_type": "markdown",
   "metadata": {},
   "source": [
    "# Extra Tree Regressor"
   ]
  },
  {
   "cell_type": "code",
   "execution_count": 110,
   "metadata": {},
   "outputs": [],
   "source": [
    "extra_tree_model = ExtraTreesRegressor(n_estimators = 1500,verbose=2,criterion ='mse', max_features = 'auto')"
   ]
  },
  {
   "cell_type": "code",
   "execution_count": 111,
   "metadata": {},
   "outputs": [
    {
     "name": "stderr",
     "output_type": "stream",
     "text": [
      "C:\\Program Files\\Python310\\lib\\site-packages\\sklearn\\ensemble\\_forest.py:400: FutureWarning: Criterion 'mse' was deprecated in v1.0 and will be removed in version 1.2. Use `criterion='squared_error'` which is equivalent.\n",
      "  warn(\n",
      "C:\\Program Files\\Python310\\lib\\site-packages\\sklearn\\ensemble\\_forest.py:416: FutureWarning: `max_features='auto'` has been deprecated in 1.1 and will be removed in 1.3. To keep the past behaviour, explicitly set `max_features=1.0` or remove this parameter as it is also the default value for RandomForestRegressors and ExtraTreesRegressors.\n",
      "  warn(\n",
      "[Parallel(n_jobs=-1)]: Using backend ThreadingBackend with 4 concurrent workers.\n"
     ]
    },
    {
     "name": "stdout",
     "output_type": "stream",
     "text": [
      "building tree 1 of 800building tree 2 of 800\n",
      "\n",
      "building tree 3 of 800\n",
      "building tree 4 of 800\n",
      "building tree 5 of 800\n",
      "building tree 6 of 800\n",
      "building tree 7 of 800\n",
      "building tree 8 of 800\n",
      "building tree 9 of 800\n",
      "building tree 10 of 800\n",
      "building tree 11 of 800\n",
      "building tree 12 of 800\n",
      "building tree 13 of 800\n",
      "building tree 14 of 800\n",
      "building tree 15 of 800\n",
      "building tree 16 of 800\n",
      "building tree 17 of 800\n",
      "building tree 18 of 800\n",
      "building tree 19 of 800\n",
      "building tree 20 of 800\n",
      "building tree 21 of 800\n",
      "building tree 22 of 800\n",
      "building tree 23 of 800\n",
      "building tree 24 of 800\n",
      "building tree 25 of 800\n",
      "building tree 26 of 800\n",
      "building tree 27 of 800\n",
      "building tree 28 of 800\n",
      "building tree 29 of 800\n",
      "building tree 30 of 800\n",
      "building tree 31 of 800\n",
      "building tree 32 of 800\n",
      "building tree 33 of 800\n",
      "building tree 34 of 800\n",
      "building tree 35 of 800\n",
      "building tree 36 of 800\n",
      "building tree 37 of 800\n"
     ]
    },
    {
     "name": "stderr",
     "output_type": "stream",
     "text": [
      "[Parallel(n_jobs=-1)]: Done  33 tasks      | elapsed:  1.2min\n"
     ]
    },
    {
     "name": "stdout",
     "output_type": "stream",
     "text": [
      "building tree 38 of 800\n",
      "building tree 39 of 800\n",
      "building tree 40 of 800\n",
      "building tree 41 of 800\n",
      "building tree 42 of 800\n",
      "building tree 43 of 800\n",
      "building tree 44 of 800\n",
      "building tree 45 of 800\n",
      "building tree 46 of 800\n",
      "building tree 47 of 800\n",
      "building tree 48 of 800\n",
      "building tree 49 of 800\n",
      "building tree 50 of 800\n",
      "building tree 51 of 800\n",
      "building tree 52 of 800\n",
      "building tree 53 of 800\n",
      "building tree 54 of 800\n",
      "building tree 55 of 800\n",
      "building tree 56 of 800\n",
      "building tree 57 of 800\n",
      "building tree 58 of 800\n",
      "building tree 59 of 800\n",
      "building tree 60 of 800\n",
      "building tree 61 of 800\n",
      "building tree 62 of 800\n",
      "building tree 63 of 800\n",
      "building tree 64 of 800\n",
      "building tree 65 of 800\n",
      "building tree 66 of 800\n",
      "building tree 67 of 800\n",
      "building tree 68 of 800\n",
      "building tree 69 of 800\n",
      "building tree 70 of 800\n",
      "building tree 71 of 800\n",
      "building tree 72 of 800\n",
      "building tree 73 of 800\n",
      "building tree 74 of 800\n",
      "building tree 75 of 800\n",
      "building tree 76 of 800\n",
      "building tree 77 of 800\n",
      "building tree 78 of 800\n",
      "building tree 79 of 800\n",
      "building tree 80 of 800\n",
      "building tree 81 of 800\n",
      "building tree 82 of 800\n",
      "building tree 83 of 800\n",
      "building tree 84 of 800\n",
      "building tree 85 of 800\n",
      "building tree 86 of 800\n",
      "building tree 87 of 800\n",
      "building tree 88 of 800\n",
      "building tree 89 of 800\n",
      "building tree 90 of 800\n",
      "building tree 91 of 800\n",
      "building tree 92 of 800\n",
      "building tree 93 of 800\n",
      "building tree 94 of 800\n",
      "building tree 95 of 800\n",
      "building tree 96 of 800\n",
      "building tree 97 of 800\n",
      "building tree 98 of 800\n",
      "building tree 99 of 800\n",
      "building tree 100 of 800\n",
      "building tree 101 of 800\n",
      "building tree 102 of 800\n",
      "building tree 103 of 800\n",
      "building tree 104 of 800\n",
      "building tree 105 of 800\n",
      "building tree 106 of 800\n",
      "building tree 107 of 800\n",
      "building tree 108 of 800\n",
      "building tree 109 of 800\n",
      "building tree 110 of 800\n",
      "building tree 111 of 800\n",
      "building tree 112 of 800\n",
      "building tree 113 of 800\n",
      "building tree 114 of 800\n",
      "building tree 115 of 800\n",
      "building tree 116 of 800\n",
      "building tree 117 of 800\n",
      "building tree 118 of 800\n",
      "building tree 119 of 800\n",
      "building tree 120 of 800\n",
      "building tree 121 of 800\n",
      "building tree 122 of 800\n",
      "building tree 123 of 800\n",
      "building tree 124 of 800\n",
      "building tree 125 of 800\n",
      "building tree 126 of 800\n",
      "building tree 127 of 800\n",
      "building tree 128 of 800\n",
      "building tree 129 of 800\n",
      "building tree 130 of 800\n",
      "building tree 131 of 800\n",
      "building tree 132 of 800\n",
      "building tree 133 of 800\n",
      "building tree 134 of 800\n",
      "building tree 135 of 800\n",
      "building tree 136 of 800\n",
      "building tree 137 of 800\n",
      "building tree 138 of 800\n",
      "building tree 139 of 800\n",
      "building tree 140 of 800\n",
      "building tree 141 of 800\n",
      "building tree 142 of 800\n",
      "building tree 143 of 800\n",
      "building tree 144 of 800\n",
      "building tree 145 of 800\n",
      "building tree 146 of 800\n",
      "building tree 147 of 800\n",
      "building tree 148 of 800\n",
      "building tree 149 of 800\n",
      "building tree 150 of 800\n",
      "building tree 151 of 800\n",
      "building tree 152 of 800\n",
      "building tree 153 of 800\n",
      "building tree 154 of 800\n",
      "building tree 155 of 800\n",
      "building tree 156 of 800\n",
      "building tree 157 of 800\n",
      "building tree 158 of 800\n"
     ]
    },
    {
     "name": "stderr",
     "output_type": "stream",
     "text": [
      "[Parallel(n_jobs=-1)]: Done 154 tasks      | elapsed:  5.1min\n"
     ]
    },
    {
     "name": "stdout",
     "output_type": "stream",
     "text": [
      "building tree 159 of 800\n",
      "building tree 160 of 800\n",
      "building tree 161 of 800\n",
      "building tree 162 of 800\n",
      "building tree 163 of 800\n",
      "building tree 164 of 800\n",
      "building tree 165 of 800\n",
      "building tree 166 of 800\n",
      "building tree 167 of 800\n",
      "building tree 168 of 800\n",
      "building tree 169 of 800\n",
      "building tree 170 of 800\n",
      "building tree 171 of 800\n",
      "building tree 172 of 800\n",
      "building tree 173 of 800\n",
      "building tree 174 of 800\n",
      "building tree 175 of 800\n",
      "building tree 176 of 800\n",
      "building tree 177 of 800\n",
      "building tree 178 of 800\n",
      "building tree 179 of 800\n",
      "building tree 180 of 800\n",
      "building tree 181 of 800\n",
      "building tree 182 of 800\n",
      "building tree 183 of 800\n",
      "building tree 184 of 800\n",
      "building tree 185 of 800\n",
      "building tree 186 of 800\n",
      "building tree 187 of 800\n",
      "building tree 188 of 800\n",
      "building tree 189 of 800\n",
      "building tree 190 of 800\n",
      "building tree 191 of 800\n",
      "building tree 192 of 800\n",
      "building tree 193 of 800\n",
      "building tree 194 of 800\n",
      "building tree 195 of 800\n",
      "building tree 196 of 800\n",
      "building tree 197 of 800\n",
      "building tree 198 of 800\n",
      "building tree 199 of 800\n",
      "building tree 200 of 800\n",
      "building tree 201 of 800\n",
      "building tree 202 of 800\n",
      "building tree 203 of 800\n",
      "building tree 204 of 800\n",
      "building tree 205 of 800\n",
      "building tree 206 of 800\n",
      "building tree 207 of 800\n",
      "building tree 208 of 800\n",
      "building tree 209 of 800\n",
      "building tree 210 of 800\n",
      "building tree 211 of 800\n",
      "building tree 212 of 800\n",
      "building tree 213 of 800\n",
      "building tree 214 of 800\n",
      "building tree 215 of 800\n",
      "building tree 216 of 800\n",
      "building tree 217 of 800\n",
      "building tree 218 of 800\n",
      "building tree 219 of 800\n",
      "building tree 220 of 800\n",
      "building tree 221 of 800\n",
      "building tree 222 of 800\n",
      "building tree 223 of 800\n",
      "building tree 224 of 800\n",
      "building tree 225 of 800\n",
      "building tree 226 of 800\n",
      "building tree 227 of 800\n",
      "building tree 228 of 800\n",
      "building tree 229 of 800\n",
      "building tree 230 of 800\n",
      "building tree 231 of 800\n",
      "building tree 232 of 800\n",
      "building tree 233 of 800\n",
      "building tree 234 of 800\n",
      "building tree 235 of 800\n",
      "building tree 236 of 800\n",
      "building tree 237 of 800\n",
      "building tree 238 of 800\n",
      "building tree 239 of 800\n",
      "building tree 240 of 800\n",
      "building tree 241 of 800\n",
      "building tree 242 of 800\n",
      "building tree 243 of 800\n",
      "building tree 244 of 800\n",
      "building tree 245 of 800\n",
      "building tree 246 of 800\n",
      "building tree 247 of 800\n",
      "building tree 248 of 800\n",
      "building tree 249 of 800\n",
      "building tree 250 of 800\n",
      "building tree 251 of 800\n",
      "building tree 252 of 800\n",
      "building tree 253 of 800\n",
      "building tree 254 of 800\n",
      "building tree 255 of 800\n",
      "building tree 256 of 800\n",
      "building tree 257 of 800\n",
      "building tree 258 of 800\n",
      "building tree 259 of 800\n",
      "building tree 260 of 800\n",
      "building tree 261 of 800\n",
      "building tree 262 of 800\n",
      "building tree 263 of 800\n",
      "building tree 264 of 800\n",
      "building tree 265 of 800\n",
      "building tree 266 of 800\n",
      "building tree 267 of 800\n",
      "building tree 268 of 800\n",
      "building tree 269 of 800\n",
      "building tree 270 of 800\n",
      "building tree 271 of 800\n",
      "building tree 272 of 800\n",
      "building tree 273 of 800\n",
      "building tree 274 of 800\n",
      "building tree 275 of 800\n",
      "building tree 276 of 800\n",
      "building tree 277 of 800\n",
      "building tree 278 of 800\n",
      "building tree 279 of 800\n",
      "building tree 280 of 800\n",
      "building tree 281 of 800\n",
      "building tree 282 of 800\n",
      "building tree 283 of 800\n",
      "building tree 284 of 800\n",
      "building tree 285 of 800\n",
      "building tree 286 of 800\n",
      "building tree 287 of 800\n",
      "building tree 288 of 800\n",
      "building tree 289 of 800\n",
      "building tree 290 of 800\n",
      "building tree 291 of 800\n",
      "building tree 292 of 800\n",
      "building tree 293 of 800\n",
      "building tree 294 of 800\n",
      "building tree 295 of 800\n",
      "building tree 296 of 800\n",
      "building tree 297 of 800\n",
      "building tree 298 of 800\n",
      "building tree 299 of 800\n",
      "building tree 300 of 800\n",
      "building tree 301 of 800\n",
      "building tree 302 of 800\n",
      "building tree 303 of 800\n",
      "building tree 304 of 800\n",
      "building tree 305 of 800\n",
      "building tree 306 of 800\n",
      "building tree 307 of 800\n",
      "building tree 308 of 800\n",
      "building tree 309 of 800\n",
      "building tree 310 of 800\n",
      "building tree 311 of 800\n",
      "building tree 312 of 800\n",
      "building tree 313 of 800\n",
      "building tree 314 of 800\n",
      "building tree 315 of 800\n",
      "building tree 316 of 800\n",
      "building tree 317 of 800\n",
      "building tree 318 of 800\n",
      "building tree 319 of 800\n",
      "building tree 320 of 800\n",
      "building tree 321 of 800\n",
      "building tree 322 of 800\n",
      "building tree 323 of 800\n",
      "building tree 324 of 800\n",
      "building tree 325 of 800\n",
      "building tree 326 of 800\n",
      "building tree 327 of 800\n",
      "building tree 328 of 800\n",
      "building tree 329 of 800\n",
      "building tree 330 of 800\n",
      "building tree 331 of 800\n",
      "building tree 332 of 800\n",
      "building tree 333 of 800\n",
      "building tree 334 of 800\n",
      "building tree 335 of 800\n",
      "building tree 336 of 800\n",
      "building tree 337 of 800\n",
      "building tree 338 of 800\n",
      "building tree 339 of 800\n",
      "building tree 340 of 800\n",
      "building tree 341 of 800\n",
      "building tree 342 of 800\n",
      "building tree 343 of 800\n",
      "building tree 344 of 800\n",
      "building tree 345 of 800\n",
      "building tree 346 of 800\n",
      "building tree 347 of 800\n",
      "building tree 348 of 800\n",
      "building tree 349 of 800\n",
      "building tree 350 of 800\n",
      "building tree 351 of 800\n",
      "building tree 352 of 800\n",
      "building tree 353 of 800\n",
      "building tree 354 of 800\n",
      "building tree 355 of 800\n",
      "building tree 356 of 800\n",
      "building tree 357 of 800\n",
      "building tree 358 of 800\n",
      "building tree 359 of 800\n",
      "building tree 360 of 800\n",
      "building tree 361 of 800\n"
     ]
    },
    {
     "name": "stderr",
     "output_type": "stream",
     "text": [
      "[Parallel(n_jobs=-1)]: Done 357 tasks      | elapsed: 12.3min\n"
     ]
    },
    {
     "name": "stdout",
     "output_type": "stream",
     "text": [
      "building tree 362 of 800\n",
      "building tree 363 of 800\n",
      "building tree 364 of 800\n",
      "building tree 365 of 800\n",
      "building tree 366 of 800\n",
      "building tree 367 of 800\n",
      "building tree 368 of 800\n",
      "building tree 369 of 800\n",
      "building tree 370 of 800\n",
      "building tree 371 of 800\n",
      "building tree 372 of 800\n",
      "building tree 373 of 800\n",
      "building tree 374 of 800\n",
      "building tree 375 of 800\n",
      "building tree 376 of 800\n",
      "building tree 377 of 800\n",
      "building tree 378 of 800\n",
      "building tree 379 of 800\n",
      "building tree 380 of 800\n",
      "building tree 381 of 800\n",
      "building tree 382 of 800\n",
      "building tree 383 of 800\n",
      "building tree 384 of 800\n",
      "building tree 385 of 800\n",
      "building tree 386 of 800\n",
      "building tree 387 of 800\n",
      "building tree 388 of 800\n",
      "building tree 389 of 800\n",
      "building tree 390 of 800\n",
      "building tree 391 of 800\n",
      "building tree 392 of 800\n",
      "building tree 393 of 800\n",
      "building tree 394 of 800\n",
      "building tree 395 of 800\n",
      "building tree 396 of 800\n",
      "building tree 397 of 800\n",
      "building tree 398 of 800\n",
      "building tree 399 of 800\n",
      "building tree 400 of 800\n",
      "building tree 401 of 800\n",
      "building tree 402 of 800\n",
      "building tree 403 of 800\n",
      "building tree 404 of 800\n",
      "building tree 405 of 800\n",
      "building tree 406 of 800\n",
      "building tree 407 of 800\n",
      "building tree 408 of 800\n",
      "building tree 409 of 800\n",
      "building tree 410 of 800\n",
      "building tree 411 of 800\n",
      "building tree 412 of 800\n",
      "building tree 413 of 800\n",
      "building tree 414 of 800\n",
      "building tree 415 of 800\n",
      "building tree 416 of 800\n",
      "building tree 417 of 800\n",
      "building tree 418 of 800\n",
      "building tree 419 of 800\n",
      "building tree 420 of 800\n",
      "building tree 421 of 800\n",
      "building tree 422 of 800\n",
      "building tree 423 of 800\n",
      "building tree 424 of 800\n",
      "building tree 425 of 800\n",
      "building tree 426 of 800\n",
      "building tree 427 of 800\n",
      "building tree 428 of 800\n",
      "building tree 429 of 800\n",
      "building tree 430 of 800\n",
      "building tree 431 of 800\n",
      "building tree 432 of 800\n",
      "building tree 433 of 800\n",
      "building tree 434 of 800\n",
      "building tree 435 of 800\n",
      "building tree 436 of 800\n",
      "building tree 437 of 800\n",
      "building tree 438 of 800\n",
      "building tree 439 of 800\n",
      "building tree 440 of 800\n",
      "building tree 441 of 800\n",
      "building tree 442 of 800\n",
      "building tree 443 of 800\n",
      "building tree 444 of 800\n",
      "building tree 445 of 800\n",
      "building tree 446 of 800\n",
      "building tree 447 of 800\n",
      "building tree 448 of 800\n",
      "building tree 449 of 800\n",
      "building tree 450 of 800\n",
      "building tree 451 of 800\n",
      "building tree 452 of 800\n",
      "building tree 453 of 800\n",
      "building tree 454 of 800\n",
      "building tree 455 of 800\n",
      "building tree 456 of 800\n",
      "building tree 457 of 800\n",
      "building tree 458 of 800\n",
      "building tree 459 of 800\n",
      "building tree 460 of 800\n",
      "building tree 461 of 800\n",
      "building tree 462 of 800\n",
      "building tree 463 of 800\n",
      "building tree 464 of 800\n",
      "building tree 465 of 800\n",
      "building tree 466 of 800\n",
      "building tree 467 of 800\n",
      "building tree 468 of 800\n",
      "building tree 469 of 800\n",
      "building tree 470 of 800\n",
      "building tree 471 of 800\n",
      "building tree 472 of 800\n",
      "building tree 473 of 800\n",
      "building tree 474 of 800\n",
      "building tree 475 of 800\n",
      "building tree 476 of 800\n",
      "building tree 477 of 800\n",
      "building tree 478 of 800\n",
      "building tree 479 of 800\n",
      "building tree 480 of 800\n",
      "building tree 481 of 800\n",
      "building tree 482 of 800\n",
      "building tree 483 of 800\n",
      "building tree 484 of 800\n",
      "building tree 485 of 800\n",
      "building tree 486 of 800\n",
      "building tree 487 of 800\n",
      "building tree 488 of 800\n",
      "building tree 489 of 800\n",
      "building tree 490 of 800\n",
      "building tree 491 of 800\n",
      "building tree 492 of 800\n",
      "building tree 493 of 800\n",
      "building tree 494 of 800\n",
      "building tree 495 of 800\n",
      "building tree 496 of 800\n",
      "building tree 497 of 800\n",
      "building tree 498 of 800\n",
      "building tree 499 of 800\n",
      "building tree 500 of 800\n",
      "building tree 501 of 800\n",
      "building tree 502 of 800\n",
      "building tree 503 of 800\n",
      "building tree 504 of 800\n",
      "building tree 505 of 800\n",
      "building tree 506 of 800\n",
      "building tree 507 of 800\n",
      "building tree 508 of 800\n",
      "building tree 509 of 800\n",
      "building tree 510 of 800\n",
      "building tree 511 of 800\n",
      "building tree 512 of 800\n",
      "building tree 513 of 800\n",
      "building tree 514 of 800\n",
      "building tree 515 of 800\n",
      "building tree 516 of 800\n",
      "building tree 517 of 800\n",
      "building tree 518 of 800\n",
      "building tree 519 of 800\n",
      "building tree 520 of 800\n",
      "building tree 521 of 800\n",
      "building tree 522 of 800\n",
      "building tree 523 of 800\n",
      "building tree 524 of 800\n",
      "building tree 525 of 800\n",
      "building tree 526 of 800\n",
      "building tree 527 of 800\n",
      "building tree 528 of 800\n",
      "building tree 529 of 800\n",
      "building tree 530 of 800\n",
      "building tree 531 of 800\n",
      "building tree 532 of 800\n",
      "building tree 533 of 800\n",
      "building tree 534 of 800\n",
      "building tree 535 of 800\n",
      "building tree 536 of 800\n",
      "building tree 537 of 800\n",
      "building tree 538 of 800\n",
      "building tree 539 of 800\n",
      "building tree 540 of 800\n",
      "building tree 541 of 800\n",
      "building tree 542 of 800\n",
      "building tree 543 of 800\n",
      "building tree 544 of 800\n",
      "building tree 545 of 800\n",
      "building tree 546 of 800\n",
      "building tree 547 of 800\n",
      "building tree 548 of 800\n",
      "building tree 549 of 800\n",
      "building tree 550 of 800\n",
      "building tree 551 of 800\n",
      "building tree 552 of 800\n",
      "building tree 553 of 800\n",
      "building tree 554 of 800\n",
      "building tree 555 of 800\n",
      "building tree 556 of 800\n",
      "building tree 557 of 800\n",
      "building tree 558 of 800\n",
      "building tree 559 of 800\n",
      "building tree 560 of 800\n",
      "building tree 561 of 800\n",
      "building tree 562 of 800\n",
      "building tree 563 of 800\n",
      "building tree 564 of 800\n",
      "building tree 565 of 800\n",
      "building tree 566 of 800\n",
      "building tree 567 of 800\n",
      "building tree 568 of 800\n",
      "building tree 569 of 800\n",
      "building tree 570 of 800\n",
      "building tree 571 of 800\n",
      "building tree 572 of 800\n",
      "building tree 573 of 800\n",
      "building tree 574 of 800\n",
      "building tree 575 of 800\n",
      "building tree 576 of 800\n",
      "building tree 577 of 800\n",
      "building tree 578 of 800\n",
      "building tree 579 of 800\n",
      "building tree 580 of 800\n",
      "building tree 581 of 800\n",
      "building tree 582 of 800\n",
      "building tree 583 of 800\n",
      "building tree 584 of 800\n",
      "building tree 585 of 800\n",
      "building tree 586 of 800\n",
      "building tree 587 of 800\n",
      "building tree 588 of 800\n",
      "building tree 589 of 800\n",
      "building tree 590 of 800\n",
      "building tree 591 of 800\n",
      "building tree 592 of 800\n",
      "building tree 593 of 800\n",
      "building tree 594 of 800\n",
      "building tree 595 of 800\n",
      "building tree 596 of 800\n",
      "building tree 597 of 800\n",
      "building tree 598 of 800\n",
      "building tree 599 of 800\n",
      "building tree 600 of 800\n",
      "building tree 601 of 800\n",
      "building tree 602 of 800\n",
      "building tree 603 of 800\n",
      "building tree 604 of 800\n",
      "building tree 605 of 800\n",
      "building tree 606 of 800\n",
      "building tree 607 of 800\n",
      "building tree 608 of 800\n",
      "building tree 609 of 800\n",
      "building tree 610 of 800\n",
      "building tree 611 of 800\n",
      "building tree 612 of 800\n",
      "building tree 613 of 800\n",
      "building tree 614 of 800\n",
      "building tree 615 of 800\n",
      "building tree 616 of 800\n",
      "building tree 617 of 800\n",
      "building tree 618 of 800\n",
      "building tree 619 of 800\n",
      "building tree 620 of 800\n",
      "building tree 621 of 800\n",
      "building tree 622 of 800\n",
      "building tree 623 of 800\n",
      "building tree 624 of 800\n",
      "building tree 625 of 800\n",
      "building tree 626 of 800\n",
      "building tree 627 of 800\n",
      "building tree 628 of 800\n",
      "building tree 629 of 800\n",
      "building tree 630 of 800\n",
      "building tree 631 of 800\n",
      "building tree 632 of 800\n",
      "building tree 633 of 800\n",
      "building tree 634 of 800\n",
      "building tree 635 of 800\n",
      "building tree 636 of 800\n",
      "building tree 637 of 800\n",
      "building tree 638 of 800\n",
      "building tree 639 of 800\n",
      "building tree 640 of 800\n",
      "building tree 641 of 800\n",
      "building tree 642 of 800\n",
      "building tree 643 of 800\n",
      "building tree 644 of 800\n"
     ]
    },
    {
     "name": "stderr",
     "output_type": "stream",
     "text": [
      "[Parallel(n_jobs=-1)]: Done 640 tasks      | elapsed: 22.0min\n"
     ]
    },
    {
     "name": "stdout",
     "output_type": "stream",
     "text": [
      "building tree 645 of 800\n",
      "building tree 646 of 800\n",
      "building tree 647 of 800\n",
      "building tree 648 of 800\n",
      "building tree 649 of 800\n",
      "building tree 650 of 800\n",
      "building tree 651 of 800\n",
      "building tree 652 of 800\n",
      "building tree 653 of 800\n",
      "building tree 654 of 800\n",
      "building tree 655 of 800\n",
      "building tree 656 of 800\n",
      "building tree 657 of 800\n",
      "building tree 658 of 800\n",
      "building tree 659 of 800\n",
      "building tree 660 of 800\n",
      "building tree 661 of 800\n",
      "building tree 662 of 800\n",
      "building tree 663 of 800\n",
      "building tree 664 of 800\n",
      "building tree 665 of 800\n",
      "building tree 666 of 800\n",
      "building tree 667 of 800\n",
      "building tree 668 of 800\n",
      "building tree 669 of 800\n",
      "building tree 670 of 800\n",
      "building tree 671 of 800\n",
      "building tree 672 of 800\n",
      "building tree 673 of 800\n",
      "building tree 674 of 800\n",
      "building tree 675 of 800\n",
      "building tree 676 of 800\n",
      "building tree 677 of 800\n",
      "building tree 678 of 800\n",
      "building tree 679 of 800\n",
      "building tree 680 of 800\n",
      "building tree 681 of 800\n",
      "building tree 682 of 800\n",
      "building tree 683 of 800\n",
      "building tree 684 of 800\n",
      "building tree 685 of 800\n",
      "building tree 686 of 800\n",
      "building tree 687 of 800\n",
      "building tree 688 of 800\n",
      "building tree 689 of 800\n",
      "building tree 690 of 800\n",
      "building tree 691 of 800\n",
      "building tree 692 of 800\n",
      "building tree 693 of 800\n",
      "building tree 694 of 800\n",
      "building tree 695 of 800\n",
      "building tree 696 of 800\n",
      "building tree 697 of 800\n",
      "building tree 698 of 800\n",
      "building tree 699 of 800\n",
      "building tree 700 of 800\n",
      "building tree 701 of 800\n",
      "building tree 702 of 800\n",
      "building tree 703 of 800\n",
      "building tree 704 of 800\n",
      "building tree 705 of 800\n",
      "building tree 706 of 800\n",
      "building tree 707 of 800\n",
      "building tree 708 of 800\n",
      "building tree 709 of 800\n",
      "building tree 710 of 800\n",
      "building tree 711 of 800\n",
      "building tree 712 of 800\n",
      "building tree 713 of 800\n",
      "building tree 714 of 800\n",
      "building tree 715 of 800\n",
      "building tree 716 of 800\n",
      "building tree 717 of 800\n",
      "building tree 718 of 800\n",
      "building tree 719 of 800\n",
      "building tree 720 of 800\n",
      "building tree 721 of 800\n",
      "building tree 722 of 800\n",
      "building tree 723 of 800\n",
      "building tree 724 of 800\n",
      "building tree 725 of 800\n",
      "building tree 726 of 800\n",
      "building tree 727 of 800\n",
      "building tree 728 of 800\n",
      "building tree 729 of 800\n",
      "building tree 730 of 800\n",
      "building tree 731 of 800\n",
      "building tree 732 of 800\n",
      "building tree 733 of 800\n",
      "building tree 734 of 800\n",
      "building tree 735 of 800\n",
      "building tree 736 of 800\n",
      "building tree 737 of 800\n",
      "building tree 738 of 800\n",
      "building tree 739 of 800\n",
      "building tree 740 of 800\n",
      "building tree 741 of 800\n",
      "building tree 742 of 800\n",
      "building tree 743 of 800\n",
      "building tree 744 of 800\n",
      "building tree 745 of 800\n",
      "building tree 746 of 800\n",
      "building tree 747 of 800\n",
      "building tree 748 of 800\n",
      "building tree 749 of 800\n",
      "building tree 750 of 800\n",
      "building tree 751 of 800\n",
      "building tree 752 of 800\n",
      "building tree 753 of 800\n",
      "building tree 754 of 800\n",
      "building tree 755 of 800\n",
      "building tree 756 of 800\n",
      "building tree 757 of 800\n",
      "building tree 758 of 800\n",
      "building tree 759 of 800\n",
      "building tree 760 of 800\n",
      "building tree 761 of 800\n",
      "building tree 762 of 800\n",
      "building tree 763 of 800\n",
      "building tree 764 of 800\n",
      "building tree 765 of 800\n",
      "building tree 766 of 800\n",
      "building tree 767 of 800\n",
      "building tree 768 of 800\n",
      "building tree 769 of 800\n",
      "building tree 770 of 800\n",
      "building tree 771 of 800\n",
      "building tree 772 of 800\n",
      "building tree 773 of 800\n",
      "building tree 774 of 800\n",
      "building tree 775 of 800\n",
      "building tree 776 of 800\n",
      "building tree 777 of 800\n",
      "building tree 778 of 800\n",
      "building tree 779 of 800\n",
      "building tree 780 of 800\n",
      "building tree 781 of 800\n",
      "building tree 782 of 800\n",
      "building tree 783 of 800\n",
      "building tree 784 of 800\n",
      "building tree 785 of 800\n",
      "building tree 786 of 800\n",
      "building tree 787 of 800\n",
      "building tree 788 of 800\n",
      "building tree 789 of 800\n",
      "building tree 790 of 800\n",
      "building tree 791 of 800\n",
      "building tree 792 of 800\n",
      "building tree 793 of 800\n",
      "building tree 794 of 800\n",
      "building tree 795 of 800\n",
      "building tree 796 of 800\n",
      "building tree 797 of 800\n",
      "building tree 798 of 800\n",
      "building tree 799 of 800\n",
      "building tree 800 of 800\n"
     ]
    },
    {
     "name": "stderr",
     "output_type": "stream",
     "text": [
      "[Parallel(n_jobs=-1)]: Done 800 out of 800 | elapsed: 25.1min finished\n"
     ]
    },
    {
     "data": {
      "text/html": [
       "<style>#sk-container-id-6 {color: black;background-color: white;}#sk-container-id-6 pre{padding: 0;}#sk-container-id-6 div.sk-toggleable {background-color: white;}#sk-container-id-6 label.sk-toggleable__label {cursor: pointer;display: block;width: 100%;margin-bottom: 0;padding: 0.3em;box-sizing: border-box;text-align: center;}#sk-container-id-6 label.sk-toggleable__label-arrow:before {content: \"▸\";float: left;margin-right: 0.25em;color: #696969;}#sk-container-id-6 label.sk-toggleable__label-arrow:hover:before {color: black;}#sk-container-id-6 div.sk-estimator:hover label.sk-toggleable__label-arrow:before {color: black;}#sk-container-id-6 div.sk-toggleable__content {max-height: 0;max-width: 0;overflow: hidden;text-align: left;background-color: #f0f8ff;}#sk-container-id-6 div.sk-toggleable__content pre {margin: 0.2em;color: black;border-radius: 0.25em;background-color: #f0f8ff;}#sk-container-id-6 input.sk-toggleable__control:checked~div.sk-toggleable__content {max-height: 200px;max-width: 100%;overflow: auto;}#sk-container-id-6 input.sk-toggleable__control:checked~label.sk-toggleable__label-arrow:before {content: \"▾\";}#sk-container-id-6 div.sk-estimator input.sk-toggleable__control:checked~label.sk-toggleable__label {background-color: #d4ebff;}#sk-container-id-6 div.sk-label input.sk-toggleable__control:checked~label.sk-toggleable__label {background-color: #d4ebff;}#sk-container-id-6 input.sk-hidden--visually {border: 0;clip: rect(1px 1px 1px 1px);clip: rect(1px, 1px, 1px, 1px);height: 1px;margin: -1px;overflow: hidden;padding: 0;position: absolute;width: 1px;}#sk-container-id-6 div.sk-estimator {font-family: monospace;background-color: #f0f8ff;border: 1px dotted black;border-radius: 0.25em;box-sizing: border-box;margin-bottom: 0.5em;}#sk-container-id-6 div.sk-estimator:hover {background-color: #d4ebff;}#sk-container-id-6 div.sk-parallel-item::after {content: \"\";width: 100%;border-bottom: 1px solid gray;flex-grow: 1;}#sk-container-id-6 div.sk-label:hover label.sk-toggleable__label {background-color: #d4ebff;}#sk-container-id-6 div.sk-serial::before {content: \"\";position: absolute;border-left: 1px solid gray;box-sizing: border-box;top: 0;bottom: 0;left: 50%;z-index: 0;}#sk-container-id-6 div.sk-serial {display: flex;flex-direction: column;align-items: center;background-color: white;padding-right: 0.2em;padding-left: 0.2em;position: relative;}#sk-container-id-6 div.sk-item {position: relative;z-index: 1;}#sk-container-id-6 div.sk-parallel {display: flex;align-items: stretch;justify-content: center;background-color: white;position: relative;}#sk-container-id-6 div.sk-item::before, #sk-container-id-6 div.sk-parallel-item::before {content: \"\";position: absolute;border-left: 1px solid gray;box-sizing: border-box;top: 0;bottom: 0;left: 50%;z-index: -1;}#sk-container-id-6 div.sk-parallel-item {display: flex;flex-direction: column;z-index: 1;position: relative;background-color: white;}#sk-container-id-6 div.sk-parallel-item:first-child::after {align-self: flex-end;width: 50%;}#sk-container-id-6 div.sk-parallel-item:last-child::after {align-self: flex-start;width: 50%;}#sk-container-id-6 div.sk-parallel-item:only-child::after {width: 0;}#sk-container-id-6 div.sk-dashed-wrapped {border: 1px dashed gray;margin: 0 0.4em 0.5em 0.4em;box-sizing: border-box;padding-bottom: 0.4em;background-color: white;}#sk-container-id-6 div.sk-label label {font-family: monospace;font-weight: bold;display: inline-block;line-height: 1.2em;}#sk-container-id-6 div.sk-label-container {text-align: center;}#sk-container-id-6 div.sk-container {/* jupyter's `normalize.less` sets `[hidden] { display: none; }` but bootstrap.min.css set `[hidden] { display: none !important; }` so we also need the `!important` here to be able to override the default hidden behavior on the sphinx rendered scikit-learn.org. See: https://github.com/scikit-learn/scikit-learn/issues/21755 */display: inline-block !important;position: relative;}#sk-container-id-6 div.sk-text-repr-fallback {display: none;}</style><div id=\"sk-container-id-6\" class=\"sk-top-container\"><div class=\"sk-text-repr-fallback\"><pre>ExtraTreesRegressor(criterion=&#x27;mse&#x27;, max_features=&#x27;auto&#x27;, n_estimators=800,\n",
       "                    n_jobs=-1, verbose=2)</pre><b>In a Jupyter environment, please rerun this cell to show the HTML representation or trust the notebook. <br />On GitHub, the HTML representation is unable to render, please try loading this page with nbviewer.org.</b></div><div class=\"sk-container\" hidden><div class=\"sk-item\"><div class=\"sk-estimator sk-toggleable\"><input class=\"sk-toggleable__control sk-hidden--visually\" id=\"sk-estimator-id-8\" type=\"checkbox\" checked><label for=\"sk-estimator-id-8\" class=\"sk-toggleable__label sk-toggleable__label-arrow\">ExtraTreesRegressor</label><div class=\"sk-toggleable__content\"><pre>ExtraTreesRegressor(criterion=&#x27;mse&#x27;, max_features=&#x27;auto&#x27;, n_estimators=800,\n",
       "                    n_jobs=-1, verbose=2)</pre></div></div></div></div></div>"
      ],
      "text/plain": [
       "ExtraTreesRegressor(criterion='mse', max_features='auto', n_estimators=800,\n",
       "                    n_jobs=-1, verbose=2)"
      ]
     },
     "execution_count": 111,
     "metadata": {},
     "output_type": "execute_result"
    }
   ],
   "source": [
    "extra_tree_model.fit(train7, Y)"
   ]
  },
  {
   "cell_type": "code",
   "execution_count": 112,
   "metadata": {},
   "outputs": [
    {
     "name": "stderr",
     "output_type": "stream",
     "text": [
      "[Parallel(n_jobs=4)]: Using backend ThreadingBackend with 4 concurrent workers.\n",
      "[Parallel(n_jobs=4)]: Done  33 tasks      | elapsed:    1.2s\n",
      "[Parallel(n_jobs=4)]: Done 154 tasks      | elapsed:    6.4s\n",
      "[Parallel(n_jobs=4)]: Done 357 tasks      | elapsed:   14.2s\n",
      "[Parallel(n_jobs=4)]: Done 640 tasks      | elapsed:   26.0s\n",
      "[Parallel(n_jobs=4)]: Done 800 out of 800 | elapsed:   31.5s finished\n"
     ]
    }
   ],
   "source": [
    "etm = extra_tree_model.predict(test6)"
   ]
  },
  {
   "cell_type": "code",
   "execution_count": 113,
   "metadata": {},
   "outputs": [],
   "source": [
    "output = pd.read_csv('sample.csv')\n",
    "output['price_doc'] = etm\n",
    "output.to_csv('output50.csv',index=False)"
   ]
  },
  {
   "cell_type": "code",
   "execution_count": null,
   "metadata": {},
   "outputs": [],
   "source": []
  }
 ],
 "metadata": {
  "kernelspec": {
   "display_name": "Python 3 (ipykernel)",
   "language": "python",
   "name": "python3"
  },
  "language_info": {
   "codemirror_mode": {
    "name": "ipython",
    "version": 3
   },
   "file_extension": ".py",
   "mimetype": "text/x-python",
   "name": "python",
   "nbconvert_exporter": "python",
   "pygments_lexer": "ipython3",
   "version": "3.10.6"
  },
  "vscode": {
   "interpreter": {
    "hash": "26de051ba29f2982a8de78e945f0abaf191376122a1563185a90213a26c5da77"
   }
  }
 },
 "nbformat": 4,
 "nbformat_minor": 2
}
