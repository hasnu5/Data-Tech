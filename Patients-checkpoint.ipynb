{
 "cells": [
  {
   "cell_type": "code",
   "execution_count": 9,
   "id": "772a8cba",
   "metadata": {},
   "outputs": [],
   "source": [
    "import pandas as pd\n",
    "import numpy as np\n",
    "import matplotlib.pyplot as plt\n",
    "import seaborn as sns\n",
    "from sklearn.cluster import KMeans\n",
    "from sklearn.cluster import AgglomerativeClustering\n",
    "from yellowbrick.cluster import KElbowVisualizer\n",
    "import scipy.cluster.hierarchy as sch\n",
    "from sklearn.preprocessing import StandardScaler\n",
    "from sklearn.preprocessing import MinMaxScaler\n",
    "from sklearn import datasets\n",
    "from mlxtend.feature_selection import SequentialFeatureSelector as sfs\n",
    "from kneed import KneeLocator\n",
    "from sklearn.cluster import BisectingKMeans"
   ]
  },
  {
   "cell_type": "code",
   "execution_count": 10,
   "id": "6538dd3d",
   "metadata": {},
   "outputs": [
    {
     "data": {
      "text/html": [
       "<div>\n",
       "<style scoped>\n",
       "    .dataframe tbody tr th:only-of-type {\n",
       "        vertical-align: middle;\n",
       "    }\n",
       "\n",
       "    .dataframe tbody tr th {\n",
       "        vertical-align: top;\n",
       "    }\n",
       "\n",
       "    .dataframe thead th {\n",
       "        text-align: right;\n",
       "    }\n",
       "</style>\n",
       "<table border=\"1\" class=\"dataframe\">\n",
       "  <thead>\n",
       "    <tr style=\"text-align: right;\">\n",
       "      <th></th>\n",
       "      <th>row ID</th>\n",
       "      <th>itching</th>\n",
       "      <th>skin_rash</th>\n",
       "      <th>nodal_skin_eruptions</th>\n",
       "      <th>continuous_sneezing</th>\n",
       "      <th>shivering</th>\n",
       "      <th>chills</th>\n",
       "      <th>joint_pain</th>\n",
       "      <th>stomach_pain</th>\n",
       "      <th>acidity</th>\n",
       "      <th>...</th>\n",
       "      <th>pus_filled_pimples</th>\n",
       "      <th>blackheads</th>\n",
       "      <th>scurring</th>\n",
       "      <th>skin_peeling</th>\n",
       "      <th>silver_like_dusting</th>\n",
       "      <th>small_dents_in_nails</th>\n",
       "      <th>inflammatory_nails</th>\n",
       "      <th>blister</th>\n",
       "      <th>red_sore_around_nose</th>\n",
       "      <th>yellow_crust_ooze</th>\n",
       "    </tr>\n",
       "  </thead>\n",
       "  <tbody>\n",
       "    <tr>\n",
       "      <th>0</th>\n",
       "      <td>Row0</td>\n",
       "      <td>0</td>\n",
       "      <td>0</td>\n",
       "      <td>0</td>\n",
       "      <td>0</td>\n",
       "      <td>0</td>\n",
       "      <td>0</td>\n",
       "      <td>0</td>\n",
       "      <td>1</td>\n",
       "      <td>1</td>\n",
       "      <td>...</td>\n",
       "      <td>0</td>\n",
       "      <td>0</td>\n",
       "      <td>0</td>\n",
       "      <td>0</td>\n",
       "      <td>0</td>\n",
       "      <td>0</td>\n",
       "      <td>0</td>\n",
       "      <td>0</td>\n",
       "      <td>0</td>\n",
       "      <td>0</td>\n",
       "    </tr>\n",
       "    <tr>\n",
       "      <th>1</th>\n",
       "      <td>Row1</td>\n",
       "      <td>0</td>\n",
       "      <td>0</td>\n",
       "      <td>0</td>\n",
       "      <td>0</td>\n",
       "      <td>0</td>\n",
       "      <td>0</td>\n",
       "      <td>0</td>\n",
       "      <td>1</td>\n",
       "      <td>0</td>\n",
       "      <td>...</td>\n",
       "      <td>0</td>\n",
       "      <td>0</td>\n",
       "      <td>0</td>\n",
       "      <td>0</td>\n",
       "      <td>0</td>\n",
       "      <td>0</td>\n",
       "      <td>0</td>\n",
       "      <td>0</td>\n",
       "      <td>0</td>\n",
       "      <td>0</td>\n",
       "    </tr>\n",
       "    <tr>\n",
       "      <th>2</th>\n",
       "      <td>Row2</td>\n",
       "      <td>0</td>\n",
       "      <td>0</td>\n",
       "      <td>0</td>\n",
       "      <td>0</td>\n",
       "      <td>0</td>\n",
       "      <td>0</td>\n",
       "      <td>0</td>\n",
       "      <td>1</td>\n",
       "      <td>1</td>\n",
       "      <td>...</td>\n",
       "      <td>0</td>\n",
       "      <td>0</td>\n",
       "      <td>0</td>\n",
       "      <td>0</td>\n",
       "      <td>0</td>\n",
       "      <td>0</td>\n",
       "      <td>0</td>\n",
       "      <td>0</td>\n",
       "      <td>0</td>\n",
       "      <td>0</td>\n",
       "    </tr>\n",
       "    <tr>\n",
       "      <th>3</th>\n",
       "      <td>Row3</td>\n",
       "      <td>0</td>\n",
       "      <td>0</td>\n",
       "      <td>0</td>\n",
       "      <td>0</td>\n",
       "      <td>0</td>\n",
       "      <td>0</td>\n",
       "      <td>0</td>\n",
       "      <td>1</td>\n",
       "      <td>1</td>\n",
       "      <td>...</td>\n",
       "      <td>0</td>\n",
       "      <td>0</td>\n",
       "      <td>0</td>\n",
       "      <td>0</td>\n",
       "      <td>0</td>\n",
       "      <td>0</td>\n",
       "      <td>0</td>\n",
       "      <td>0</td>\n",
       "      <td>0</td>\n",
       "      <td>0</td>\n",
       "    </tr>\n",
       "    <tr>\n",
       "      <th>4</th>\n",
       "      <td>Row4</td>\n",
       "      <td>0</td>\n",
       "      <td>0</td>\n",
       "      <td>0</td>\n",
       "      <td>0</td>\n",
       "      <td>0</td>\n",
       "      <td>0</td>\n",
       "      <td>0</td>\n",
       "      <td>1</td>\n",
       "      <td>1</td>\n",
       "      <td>...</td>\n",
       "      <td>0</td>\n",
       "      <td>0</td>\n",
       "      <td>0</td>\n",
       "      <td>0</td>\n",
       "      <td>0</td>\n",
       "      <td>0</td>\n",
       "      <td>0</td>\n",
       "      <td>0</td>\n",
       "      <td>0</td>\n",
       "      <td>0</td>\n",
       "    </tr>\n",
       "  </tbody>\n",
       "</table>\n",
       "<p>5 rows × 133 columns</p>\n",
       "</div>"
      ],
      "text/plain": [
       "  row ID  itching  skin_rash  nodal_skin_eruptions  continuous_sneezing  \\\n",
       "0   Row0        0          0                     0                    0   \n",
       "1   Row1        0          0                     0                    0   \n",
       "2   Row2        0          0                     0                    0   \n",
       "3   Row3        0          0                     0                    0   \n",
       "4   Row4        0          0                     0                    0   \n",
       "\n",
       "   shivering  chills  joint_pain  stomach_pain  acidity  ...  \\\n",
       "0          0       0           0             1        1  ...   \n",
       "1          0       0           0             1        0  ...   \n",
       "2          0       0           0             1        1  ...   \n",
       "3          0       0           0             1        1  ...   \n",
       "4          0       0           0             1        1  ...   \n",
       "\n",
       "   pus_filled_pimples  blackheads  scurring  skin_peeling  \\\n",
       "0                   0           0         0             0   \n",
       "1                   0           0         0             0   \n",
       "2                   0           0         0             0   \n",
       "3                   0           0         0             0   \n",
       "4                   0           0         0             0   \n",
       "\n",
       "   silver_like_dusting  small_dents_in_nails  inflammatory_nails  blister  \\\n",
       "0                    0                     0                   0        0   \n",
       "1                    0                     0                   0        0   \n",
       "2                    0                     0                   0        0   \n",
       "3                    0                     0                   0        0   \n",
       "4                    0                     0                   0        0   \n",
       "\n",
       "   red_sore_around_nose  yellow_crust_ooze  \n",
       "0                     0                  0  \n",
       "1                     0                  0  \n",
       "2                     0                  0  \n",
       "3                     0                  0  \n",
       "4                     0                  0  \n",
       "\n",
       "[5 rows x 133 columns]"
      ]
     },
     "execution_count": 10,
     "metadata": {},
     "output_type": "execute_result"
    }
   ],
   "source": [
    "df_tracks=pd.read_csv('Data.csv')\n",
    "df_tracks.head()"
   ]
  },
  {
   "cell_type": "code",
   "execution_count": 11,
   "id": "8f14479e",
   "metadata": {},
   "outputs": [],
   "source": [
    "df_tracks = df_tracks.drop(columns=['row ID'])"
   ]
  },
  {
   "cell_type": "code",
   "execution_count": 12,
   "id": "8ba021a4",
   "metadata": {},
   "outputs": [
    {
     "data": {
      "text/plain": [
       "(2783, 132)"
      ]
     },
     "execution_count": 12,
     "metadata": {},
     "output_type": "execute_result"
    }
   ],
   "source": [
    "df_tracks.shape"
   ]
  },
  {
   "cell_type": "code",
   "execution_count": 13,
   "id": "9282c5dd",
   "metadata": {},
   "outputs": [],
   "source": [
    "zero_var = df_tracks.columns[df_tracks.var() == 0]\n",
    "df_tracks = df_tracks.drop(columns=zero_var,axis=1)"
   ]
  },
  {
   "cell_type": "code",
   "execution_count": 14,
   "id": "bdaec4af",
   "metadata": {},
   "outputs": [
    {
     "name": "stdout",
     "output_type": "stream",
     "text": [
      "Empty DataFrame\n",
      "Columns: []\n",
      "Index: [0, 1, 2, 3, 4, 5, 6, 7, 8, 9, 10, 11, 12, 13, 14, 15, 16, 17, 18, 19, 20, 21, 22, 23, 24, 25, 26, 27, 28, 29, 30, 31, 32, 33, 34, 35, 36, 37, 38, 39, 40, 41, 42, 43, 44, 45, 46, 47, 48, 49, 50, 51, 52, 53, 54, 55, 56, 57, 58, 59, 60, 61, 62, 63, 64, 65, 66, 67, 68, 69, 70, 71, 72, 73, 74, 75, 76, 77, 78, 79, 80, 81, 82, 83, 84, 85, 86, 87, 88, 89, 90, 91, 92, 93, 94, 95, 96, 97, 98, 99, ...]\n",
      "\n",
      "[2783 rows x 0 columns]\n"
     ]
    }
   ],
   "source": [
    "nan_values = df_tracks.loc[:, df_tracks.isnull().any()]\n",
    "print(nan_values)"
   ]
  },
  {
   "cell_type": "code",
   "execution_count": 15,
   "id": "1009ef31",
   "metadata": {},
   "outputs": [],
   "source": [
    "def repWithMode(train,cols):\n",
    "    for i in cols:\n",
    "        x = train[i].mode()[0]\n",
    "        train[i].fillna(x, inplace = True)\n",
    "    return train    "
   ]
  },
  {
   "cell_type": "code",
   "execution_count": 16,
   "id": "afe7924a",
   "metadata": {},
   "outputs": [],
   "source": [
    "df_tracks = repWithMode(df_tracks,df_tracks)"
   ]
  },
  {
   "cell_type": "code",
   "execution_count": 17,
   "id": "408a54e8",
   "metadata": {},
   "outputs": [],
   "source": [
    "sc_X = StandardScaler()\n",
    "df_tracks = sc_X.fit_transform(df_tracks)"
   ]
  },
  {
   "cell_type": "code",
   "execution_count": 18,
   "id": "850b0c6b",
   "metadata": {},
   "outputs": [],
   "source": [
    "MM_X = MinMaxScaler()\n",
    "df_tracks = MM_X.fit_transform(df_tracks)"
   ]
  },
  {
   "cell_type": "code",
   "execution_count": 19,
   "id": "fe939050",
   "metadata": {},
   "outputs": [],
   "source": [
    "df_tracks = pd.DataFrame(df_tracks)"
   ]
  },
  {
   "cell_type": "code",
   "execution_count": 20,
   "id": "55d0d9d1",
   "metadata": {},
   "outputs": [
    {
     "name": "stdout",
     "output_type": "stream",
     "text": [
      "          0         1         2         3         4         5         6   \\\n",
      "0   1.000000  0.112910  0.090090  0.153170  0.062315  0.088803  0.060600   \n",
      "1   0.112910  1.000000  0.112910  0.101581  0.078100  0.111297  0.075950   \n",
      "2   0.090090  0.112910  1.000000  0.153170  0.062315  0.088803  0.060600   \n",
      "3   0.153170  0.101581  0.153170  1.000000  0.105947  0.150981  0.103031   \n",
      "4   0.062315  0.078100  0.062315  0.105947  1.000000  0.622092  0.916633   \n",
      "..       ...       ...       ...       ...       ...       ...       ...   \n",
      "82  0.062315  0.519034  0.062315  0.380084  0.043103  0.061425  0.041917   \n",
      "83  0.062315  0.519034  0.062315  0.380084  0.043103  0.061425  0.041917   \n",
      "84  0.062315  0.519034  0.062315  0.105947  0.043103  0.061425  0.041917   \n",
      "85  0.062315  0.519034  0.062315  0.105947  0.043103  0.061425  0.041917   \n",
      "86  0.062315  0.519034  0.062315  0.105947  0.043103  0.061425  0.041917   \n",
      "\n",
      "          7         8         9   ...        77        78        79        80  \\\n",
      "0   0.039685  0.329017  0.062315  ...  0.060600  0.060600  0.060600  0.062315   \n",
      "1   0.312882  0.312882  0.078100  ...  0.502986  0.502986  0.502986  0.519034   \n",
      "2   0.039685  0.329017  0.062315  ...  0.060600  0.060600  0.060600  0.062315   \n",
      "3   0.165855  0.030912  0.105947  ...  0.103031  0.103031  0.103031  0.380084   \n",
      "4   0.205548  0.172681  0.043103  ...  0.041917  0.041917  0.041917  0.043103   \n",
      "..       ...       ...       ...  ...       ...       ...       ...       ...   \n",
      "82  0.172681  0.172681  0.043103  ...  0.041917  0.041917  0.041917  0.945577   \n",
      "83  0.172681  0.172681  0.043103  ...  0.041917  0.041917  0.041917  0.945577   \n",
      "84  0.172681  0.172681  0.043103  ...  0.041917  0.041917  0.041917  0.043103   \n",
      "85  0.172681  0.172681  0.043103  ...  0.041917  0.041917  0.041917  0.043103   \n",
      "86  0.172681  0.172681  0.043103  ...  0.041917  0.041917  0.041917  0.043103   \n",
      "\n",
      "          81        82        83        84        85        86  \n",
      "0   0.062315  0.062315  0.062315  0.062315  0.062315  0.062315  \n",
      "1   0.519034  0.519034  0.519034  0.519034  0.519034  0.519034  \n",
      "2   0.062315  0.062315  0.062315  0.062315  0.062315  0.062315  \n",
      "3   0.380084  0.380084  0.380084  0.105947  0.105947  0.105947  \n",
      "4   0.043103  0.043103  0.043103  0.043103  0.043103  0.043103  \n",
      "..       ...       ...       ...       ...       ...       ...  \n",
      "82  0.945577  1.000000  0.945577  0.043103  0.043103  0.043103  \n",
      "83  0.945577  0.945577  1.000000  0.043103  0.043103  0.043103  \n",
      "84  0.043103  0.043103  0.043103  1.000000  0.945577  0.945577  \n",
      "85  0.043103  0.043103  0.043103  0.945577  1.000000  0.945577  \n",
      "86  0.043103  0.043103  0.043103  0.945577  0.945577  1.000000  \n",
      "\n",
      "[87 rows x 87 columns]\n"
     ]
    }
   ],
   "source": [
    "cor_matrix = df_tracks.corr().abs()\n",
    "print(cor_matrix)"
   ]
  },
  {
   "cell_type": "code",
   "execution_count": 21,
   "id": "d12682a6",
   "metadata": {},
   "outputs": [
    {
     "name": "stderr",
     "output_type": "stream",
     "text": [
      "C:\\Users\\hasan\\AppData\\Local\\Temp\\ipykernel_27636\\1584072055.py:2: DeprecationWarning: `np.bool` is a deprecated alias for the builtin `bool`. To silence this warning, use `bool` by itself. Doing this will not modify any behavior and is safe. If you specifically wanted the numpy scalar type, use `np.bool_` here.\n",
      "Deprecated in NumPy 1.20; for more details and guidance: https://numpy.org/devdocs/release/1.20.0-notes.html#deprecations\n",
      "  upper = cor_matrix.where(np.triu(np.ones(cor_matrix.shape), k=1).astype(np.bool))\n"
     ]
    }
   ],
   "source": [
    "# Select upper triangle of correlation matrix\n",
    "upper = cor_matrix.where(np.triu(np.ones(cor_matrix.shape), k=1).astype(np.bool))"
   ]
  },
  {
   "cell_type": "code",
   "execution_count": 22,
   "id": "3000485d",
   "metadata": {},
   "outputs": [
    {
     "name": "stdout",
     "output_type": "stream",
     "text": [
      "[6, 10, 38, 44, 45, 46, 47, 50, 57, 59, 63, 67, 68, 69, 70, 71, 72, 73, 74, 75, 76, 81, 82, 83, 85, 86]\n"
     ]
    }
   ],
   "source": [
    "# Find features with correlation greater than 0.8\n",
    "to_drop = [column for column in upper.columns if any(upper[column] > 0.90)]\n",
    "print(to_drop)"
   ]
  },
  {
   "cell_type": "code",
   "execution_count": 23,
   "id": "439024f4",
   "metadata": {},
   "outputs": [],
   "source": [
    "df_tracks = df_tracks.copy()\n",
    "# Drop features \n",
    "df_tracks.drop(to_drop, axis=1, inplace=True)"
   ]
  },
  {
   "cell_type": "code",
   "execution_count": 24,
   "id": "fb0646a5",
   "metadata": {},
   "outputs": [
    {
     "data": {
      "image/png": "[encoded data removed]",
      "text/plain": [
       "<Figure size 800x550 with 1 Axes>"
      ]
     },
     "metadata": {},
     "output_type": "display_data"
    }
   ],
   "source": [
    "dendrogram = sch.dendrogram(sch.linkage(df_tracks, method='ward'))"
   ]
  },
  {
   "cell_type": "code",
   "execution_count": 25,
   "id": "193da16b",
   "metadata": {},
   "outputs": [],
   "source": [
    "distortions = []\n",
    "K = range(1,70)\n",
    "for k in K:\n",
    "    kmeanModel = KMeans(n_clusters=k,max_iter=2000)\n",
    "    kmeanModel.fit(df_tracks)\n",
    "    distortions.append(kmeanModel.inertia_)"
   ]
  },
  {
   "cell_type": "code",
   "execution_count": 29,
   "id": "c6b82627",
   "metadata": {},
   "outputs": [],
   "source": [
    "from sklearn.cluster import MiniBatchKMeans\n",
    "\n",
    "kmeans = MiniBatchKMeans(n_clusters=6,random_state= 0).fit(df_tracks)"
   ]
  },
  {
   "cell_type": "code",
   "execution_count": 30,
   "id": "774c737b",
   "metadata": {},
   "outputs": [
    {
     "data": {
      "image/png": "[encoded data removed]",
      "text/plain": [
       "<Figure size 1600x800 with 1 Axes>"
      ]
     },
     "metadata": {},
     "output_type": "display_data"
    }
   ],
   "source": [
    "plt.figure(figsize=(16,8))\n",
    "plt.plot(K, distortions, 'bx-')\n",
    "plt.xlabel('k')\n",
    "plt.ylabel('Distortion')\n",
    "plt.title('The Elbow Method showing the optimal k')\n",
    "plt.show()"
   ]
  },
  {
   "cell_type": "code",
   "execution_count": null,
   "id": "0af03376",
   "metadata": {},
   "outputs": [],
   "source": [
    "kmeans_kwargs = {\n",
    "        \"init\": \"random\",\n",
    "        \"n_init\": 10,\n",
    "        \"max_iter\": 1000,\n",
    "        \"random_state\": 42,\n",
    "    }"
   ]
  },
  {
   "cell_type": "code",
   "execution_count": null,
   "id": "ed137743",
   "metadata": {},
   "outputs": [],
   "source": [
    "sse = []\n",
    "for k in range(2, 20):\n",
    "    kmeans = KMeans(n_clusters=k, **kmeans_kwargs)\n",
    "    kmeans.fit(df_tracks)\n",
    "    sse.append(kmeans.inertia_)"
   ]
  },
  {
   "cell_type": "code",
   "execution_count": null,
   "id": "fb161342",
   "metadata": {},
   "outputs": [],
   "source": [
    "plt.style.use(\"fivethirtyeight\")\n",
    "plt.plot(range(2, 20), sse)\n",
    "plt.xticks(range(2, 20))\n",
    "plt.xlabel(\"Number of Clusters\")\n",
    "plt.ylabel(\"SSE\")\n",
    "plt.show()"
   ]
  },
  {
   "cell_type": "code",
   "execution_count": null,
   "id": "45a0ef83",
   "metadata": {},
   "outputs": [],
   "source": [
    "kl = KneeLocator(\n",
    "        range(2, 20), sse, curve=\"convex\", direction=\"decreasing\"\n",
    "    )\n",
    "kl.elbow"
   ]
  },
  {
   "cell_type": "code",
   "execution_count": null,
   "id": "5ddfcaae",
   "metadata": {},
   "outputs": [],
   "source": [
    "from sklearn.metrics import silhouette_score\n",
    "\n",
    "s_avg = []\n",
    "for k in range(2, 20):\n",
    "    kmeans = KMeans(n_clusters=k,max_iter=1000,algorithm=\"lloyd\")\n",
    "    kmeans.fit(df_tracks)\n",
    "    sil_sc = silhouette_score(df_tracks, kmeans.labels_)\n",
    "    s_avg.append(sil_sc)\n",
    "print(s_avg)"
   ]
  },
  {
   "cell_type": "code",
   "execution_count": null,
   "id": "faddbc5e",
   "metadata": {},
   "outputs": [],
   "source": [
    "from sklearn.metrics import silhouette_score\n",
    "\n",
    "s_avg = []\n",
    "for k in range(2, 70):\n",
    "    Ameans = AgglomerativeClustering(n_clusters=k)\n",
    "    Ameans.fit(df_tracks)\n",
    "    sil_sc = silhouette_score(df_tracks, Ameans.labels_)\n",
    "    s_avg.append(sil_sc)\n",
    "print(s_avg)"
   ]
  },
  {
   "cell_type": "code",
   "execution_count": null,
   "id": "f9a83db7",
   "metadata": {},
   "outputs": [],
   "source": [
    "import matplotlib.pyplot as plt\n",
    "\n",
    "plt.figure(figsize=(10,5))\n",
    "plt.plot(range(2,20),s_avg)\n",
    "plt.grid(True)\n",
    "\n",
    "plt.show()"
   ]
  },
  {
   "cell_type": "code",
   "execution_count": null,
   "id": "9411994d",
   "metadata": {},
   "outputs": [],
   "source": [
    "kmeans = KMeans(n_clusters=50,algorithm=\"lloyd\",init=\"random\")\n",
    "y= kmeans.fit(df_tracks)\n",
    "labels = kmeans.labels_"
   ]
  },
  {
   "cell_type": "code",
   "execution_count": null,
   "id": "bb360b28",
   "metadata": {},
   "outputs": [],
   "source": [
    "model = AgglomerativeClustering(n_clusters=23, affinity='manhattan', linkage='single',compute_full_tree=\"auto\")\n",
    "model.fit(df_tracks)\n",
    "labels = model.labels_"
   ]
  },
  {
   "cell_type": "code",
   "execution_count": null,
   "id": "1e175775",
   "metadata": {},
   "outputs": [],
   "source": [
    "model = AgglomerativeClustering()\n",
    "# k is range of number of clusters.\n",
    "visualizer = KElbowVisualizer(model, k=(2,80), timings=False)\n",
    "# Fit data to visualizer\n",
    "visualizer.fit(df_tracks)\n",
    "# Finalize and render figure\n",
    "visualizer.show()"
   ]
  },
  {
   "cell_type": "code",
   "execution_count": 27,
   "id": "0e9f497e",
   "metadata": {},
   "outputs": [
    {
     "ename": "NameError",
     "evalue": "name 'labels' is not defined",
     "output_type": "error",
     "traceback": [
      "\u001b[1;31m---------------------------------------------------------------------------\u001b[0m",
      "\u001b[1;31mNameError\u001b[0m                                 Traceback (most recent call last)",
      "Input \u001b[1;32mIn [27]\u001b[0m, in \u001b[0;36m<cell line: 2>\u001b[1;34m()\u001b[0m\n\u001b[0;32m      1\u001b[0m output \u001b[38;5;241m=\u001b[39m pd\u001b[38;5;241m.\u001b[39mread_csv(\u001b[38;5;124m'\u001b[39m\u001b[38;5;124msample_submission.csv\u001b[39m\u001b[38;5;124m'\u001b[39m)\n\u001b[1;32m----> 2\u001b[0m output[\u001b[38;5;124m'\u001b[39m\u001b[38;5;124mcluster\u001b[39m\u001b[38;5;124m'\u001b[39m] \u001b[38;5;241m=\u001b[39m \u001b[43mlabels\u001b[49m\n\u001b[0;32m      3\u001b[0m output\u001b[38;5;241m.\u001b[39mto_csv(\u001b[38;5;124m'\u001b[39m\u001b[38;5;124mresult37.csv\u001b[39m\u001b[38;5;124m'\u001b[39m,index\u001b[38;5;241m=\u001b[39m\u001b[38;5;28;01mFalse\u001b[39;00m)\n",
      "\u001b[1;31mNameError\u001b[0m: name 'labels' is not defined"
     ]
    }
   ],
   "source": [
    "output = pd.read_csv('sample_submission.csv')\n",
    "output['cluster'] = labels\n",
    "output.to_csv('result37.csv',index=False)"
   ]
  },
  {
   "cell_type": "code",
   "execution_count": null,
   "id": "e1c5c52a",
   "metadata": {},
   "outputs": [],
   "source": []
  }
 ],
 "metadata": {
  "kernelspec": {
   "display_name": "Python 3 (ipykernel)",
   "language": "python",
   "name": "python3"
  },
  "language_info": {
   "codemirror_mode": {
    "name": "ipython",
    "version": 3
   },
   "file_extension": ".py",
   "mimetype": "text/x-python",
   "name": "python",
   "nbconvert_exporter": "python",
   "pygments_lexer": "ipython3",
   "version": "3.10.6"
  }
 },
 "nbformat": 4,
 "nbformat_minor": 5
}
